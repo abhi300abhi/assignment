{
 "cells": [
  {
   "cell_type": "markdown",
   "id": "e92ace54",
   "metadata": {},
   "source": [
    "# 1. Write a Python Program to Find LCM?"
   ]
  },
  {
   "cell_type": "code",
   "execution_count": 47,
   "id": "6b5046d6",
   "metadata": {},
   "outputs": [
    {
     "name": "stdout",
     "output_type": "stream",
     "text": [
      "how many no. do you want to find LCM of : 3\n",
      "first no. : 34\n",
      "second no. : 23\n",
      "third no. : 23\n",
      "LCM is :  782\n"
     ]
    }
   ],
   "source": [
    "try :\n",
    "    t = int(input(\"how many no. do you want to find LCM of : \"))\n",
    "    if t == 3 :\n",
    "        a = float(input(\"first no. : \"))\n",
    "        b = float(input(\"second no. : \"))\n",
    "        c = float(input(\"third no. : \"))\n",
    "        x = int(max(a,b,c))\n",
    "        for i in range(1, 100000000*x) :\n",
    "            if (i*x)%a == 0 and (i*x)%b == 0 and (i*x)%c == 0 :\n",
    "                print(\"LCM is : \", i*x)\n",
    "                break\n",
    "    elif t == 1 :\n",
    "        a = float(input(\"type the no. : \"))\n",
    "        print(\"LCM is :\", a)\n",
    "    elif t == 2 :\n",
    "        a = float(input(\"first no. : \"))\n",
    "        b = float(input(\"second no. : \"))\n",
    "        x = int(max(a,b))\n",
    "        for i in range(1, 100000000*x) :\n",
    "            if (i*x)%a == 0 and (i*x)%b == 0 :\n",
    "                print(\"LCM is : \", i*x)\n",
    "                break    \n",
    "    elif t == 4 :\n",
    "        a = float(input(\"first no. : \"))\n",
    "        b = float(input(\"second no. : \"))\n",
    "        c = float(input(\"third no. : \"))\n",
    "        d = float(input(\"fourth no. : \"))\n",
    "        x = int(max(a,b,c,d))\n",
    "        for i in range(1, 100000000*x) :\n",
    "            if (i*x)%a == 0 and (i*x)%b == 0 and (i*x)%c == 0 and (i*x)%d :\n",
    "                print(\"LCM is : \", i*x)\n",
    "                break            \n",
    "                break    \n",
    "    elif t == 5 :\n",
    "        a = float(input(\"first no. : \"))\n",
    "        b = float(input(\"second no. : \"))\n",
    "        c = float(input(\"third no. : \"))\n",
    "        d = float(input(\"fourth no. : \"))\n",
    "        e = float(input(\"fifth no. : \"))\n",
    "        x = int(max(a,b,c,d,e))\n",
    "        for i in range(1, 100000000*x) :\n",
    "            if (i*x)%a == 0 and (i*x)%b == 0 and (i*x)%c and (i*x)%d and (i*x)%e == 0 :\n",
    "                print(\"LCM is : \", i*x)\n",
    "                break  \n",
    "    elif t > 5 or t < 0 :\n",
    "        print(\"please enter upto 5 no. only.\")\n",
    "except Exception as e :\n",
    "    print(\"please enter valid no. only. \", e)"
   ]
  },
  {
   "cell_type": "markdown",
   "id": "5a4f9d6f",
   "metadata": {},
   "source": [
    "# 1. Write a Python Program to Find HCF?"
   ]
  },
  {
   "cell_type": "code",
   "execution_count": 23,
   "id": "ec32dbe8",
   "metadata": {},
   "outputs": [
    {
     "name": "stdout",
     "output_type": "stream",
     "text": [
      "how many no. do you want to find HCF of : dtdsf\n",
      "please enter valid no. only.  invalid literal for int() with base 10: 'dtdsf'\n"
     ]
    }
   ],
   "source": [
    "try :\n",
    "    t = int(input(\"how many no. do you want to find HCF of : \"))\n",
    "    if t == 1 :\n",
    "        a = float(input(\"type the no. : \"))\n",
    "        print(\"LCM is :\", a)\n",
    "    elif t == 3 :\n",
    "        a = float(input(\"first no. : \"))\n",
    "        b = float(input(\"second no. : \"))\n",
    "        c = float(input(\"third no. : \"))\n",
    "        x = int(min(a,b,c))\n",
    "        for i in range(x,0,-1) :\n",
    "            if a%i == 0 and b%i == 0 and c%i == 0 :\n",
    "                print(\"HCF is : \", i)\n",
    "                break\n",
    "    elif t == 2 :\n",
    "        a = float(input(\"first no. : \"))\n",
    "        b = float(input(\"second no. : \"))\n",
    "        x = int(min(a,b))\n",
    "        for i in range(x,0,-1) :\n",
    "            if a%i == 0 and b%i == 0 :\n",
    "                print(\"HCF is : \", i)\n",
    "                break            \n",
    "    elif t == 4 :\n",
    "        a = float(input(\"first no. : \"))\n",
    "        b = float(input(\"second no. : \"))\n",
    "        c = float(input(\"third no. : \"))\n",
    "        d = float(input(\"fourth no. : \"))\n",
    "        x = int(min(a,b,c,d))\n",
    "        for i in range(x,0,-1) :\n",
    "            if a%i == 0 and b%i == 0 and c%i == 0 and d%i == 0 :\n",
    "                print(\"HCF is : \", i)\n",
    "                break            \n",
    "    elif t == 5 :\n",
    "        a = float(input(\"first no. : \"))\n",
    "        b = float(input(\"second no. : \"))\n",
    "        c = float(input(\"third no. : \"))\n",
    "        d = float(input(\"fourt|h no. : \"))\n",
    "        e = float(input(\"fifth no. : \"))\n",
    "        x = int(min(a,b,c,d,e))\n",
    "        for i in range(x,0,-1) :\n",
    "            if a%i == 0 and b%i == 0 and c%i == 0 and d%i == 0 and e%i == 0 :\n",
    "                print(\"HCF is : \", i)\n",
    "                break                        \n",
    "    elif t > 5 or t < 0:\n",
    "                print(\"please enter upto 5 no. only.\")            \n",
    "except Exception as e :\n",
    "    print(\"please enter valid no. only. \", e)            \n"
   ]
  },
  {
   "cell_type": "markdown",
   "id": "37fae377",
   "metadata": {},
   "source": [
    "# 3. Write a Python Program to Convert Decimal to Binary, Octal and Hexadecimal?"
   ]
  },
  {
   "cell_type": "code",
   "execution_count": 43,
   "id": "2b0cbae0",
   "metadata": {},
   "outputs": [
    {
     "name": "stdout",
     "output_type": "stream",
     "text": [
      "write a decimal no. to convert it into binary, octal or hexadecimal : 46\n",
      "in which numeric system you want to convert, type b for binary , o for octal, \n",
      "    h for hexadecimal : o\n",
      "[5, 6]\n"
     ]
    }
   ],
   "source": [
    "try :\n",
    "    import math\n",
    "    n = int(input(\"\"\"write a decimal no. to convert it into binary, octal or hexadecimal : \"\"\"))\n",
    "    t = input(\"\"\"in which numeric system you want to convert, type B for binary , O for octal, \n",
    "    H for hexadecimal : \"\"\".lower())\n",
    "\n",
    "    if t == \"b\" :\n",
    "        c = 2\n",
    "    elif t == \"o\" :\n",
    "        c = 8\n",
    "    elif t == \"h\" : \n",
    "        c = 6\n",
    "    l = []\n",
    "    while n > 0 :\n",
    "        b = n%c\n",
    "        n = math.floor(n/c)\n",
    "        l.append(b)\n",
    "    print(l[::-1])    \n",
    "except Exception as e :\n",
    "    print(\"please enter valid input only. \", e)\n",
    "    "
   ]
  },
  {
   "cell_type": "markdown",
   "id": "d3f06ee0",
   "metadata": {},
   "source": [
    "# 4. Write a Python Program To Find ASCII value of a character?"
   ]
  },
  {
   "cell_type": "code",
   "execution_count": 53,
   "id": "335d4468",
   "metadata": {},
   "outputs": [
    {
     "name": "stdout",
     "output_type": "stream",
     "text": [
      "please type a chatacter of which you want to find the ASCII value : d\n",
      "ASCII value of d is 100\n"
     ]
    }
   ],
   "source": [
    "try :\n",
    "    a = input(\"please type a chatacter of which you want to find the ASCII value : \")\n",
    "    b = ord(a)\n",
    "    print(\"ASCII value of \" + a + \" is\" , b)\n",
    "except Exception as e :\n",
    "    print(\"please enter valid input only. \", e)    "
   ]
  },
  {
   "cell_type": "markdown",
   "id": "6ab8a5fa",
   "metadata": {},
   "source": [
    "# 5. Write a Python Program to Make a Simple Calculator with 4 basic mathematical operations?"
   ]
  },
  {
   "cell_type": "code",
   "execution_count": 44,
   "id": "c5cc6879",
   "metadata": {},
   "outputs": [
    {
     "name": "stdout",
     "output_type": "stream",
     "text": [
      "first no. : 444\n",
      "second no. : 34\n",
      "which operation you want to perform +, -, *, / : *\n",
      "15096.0\n"
     ]
    }
   ],
   "source": [
    "try :\n",
    "    a = float(input(\"first no. : \"))\n",
    "    b = float(input(\"second no. : \"))\n",
    "    ask = input(\"which operation you want to perform +, -, *, / : \")\n",
    "    if ask == \"+\" :\n",
    "        print(a+b)\n",
    "    elif ask == \"-\" :\n",
    "        print(a-b)\n",
    "    elif ask == \"*\" :\n",
    "        print(a*b)\n",
    "    elif ask == \"/\" :\n",
    "        print(a/b)\n",
    "    else :\n",
    "        print(\"please enter a valid operation only\")\n",
    "except Exception as e :\n",
    "    print(\"please enter valid input only. \", e)\n",
    "    "
   ]
  },
  {
   "cell_type": "code",
   "execution_count": null,
   "id": "0490193f",
   "metadata": {},
   "outputs": [],
   "source": []
  }
 ],
 "metadata": {
  "kernelspec": {
   "display_name": "Python 3",
   "language": "python",
   "name": "python3"
  },
  "language_info": {
   "codemirror_mode": {
    "name": "ipython",
    "version": 3
   },
   "file_extension": ".py",
   "mimetype": "text/x-python",
   "name": "python",
   "nbconvert_exporter": "python",
   "pygments_lexer": "ipython3",
   "version": "3.8.8"
  }
 },
 "nbformat": 4,
 "nbformat_minor": 5
}
