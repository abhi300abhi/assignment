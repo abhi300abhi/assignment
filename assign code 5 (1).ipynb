{
 "cells": [
  {
   "cell_type": "markdown",
   "id": "e92ace54",
   "metadata": {},
   "source": [
    "# 1. Write a Python Program to Find LCM?"
   ]
  },
  {
   "cell_type": "code",
   "execution_count": 56,
   "id": "6b5046d6",
   "metadata": {},
   "outputs": [
    {
     "ename": "KeyboardInterrupt",
     "evalue": "Interrupted by user",
     "output_type": "error",
     "traceback": [
      "\u001b[1;31m---------------------------------------------------------------------------\u001b[0m",
      "\u001b[1;31mKeyboardInterrupt\u001b[0m                         Traceback (most recent call last)",
      "\u001b[1;32m<ipython-input-56-f9b36f1fc7f3>\u001b[0m in \u001b[0;36m<module>\u001b[1;34m\u001b[0m\n\u001b[0;32m      1\u001b[0m \u001b[1;32mtry\u001b[0m \u001b[1;33m:\u001b[0m\u001b[1;33m\u001b[0m\u001b[1;33m\u001b[0m\u001b[0m\n\u001b[1;32m----> 2\u001b[1;33m     \u001b[0mt\u001b[0m \u001b[1;33m=\u001b[0m \u001b[0mint\u001b[0m\u001b[1;33m(\u001b[0m\u001b[0minput\u001b[0m\u001b[1;33m(\u001b[0m\u001b[1;34m\"how many no. do you want to find LCM of '(integers only)': \"\u001b[0m\u001b[1;33m)\u001b[0m\u001b[1;33m)\u001b[0m\u001b[1;33m\u001b[0m\u001b[1;33m\u001b[0m\u001b[0m\n\u001b[0m\u001b[0;32m      3\u001b[0m     \u001b[1;32mif\u001b[0m \u001b[0mt\u001b[0m \u001b[1;33m==\u001b[0m \u001b[1;36m3\u001b[0m \u001b[1;33m:\u001b[0m\u001b[1;33m\u001b[0m\u001b[1;33m\u001b[0m\u001b[0m\n\u001b[0;32m      4\u001b[0m         \u001b[0ma\u001b[0m \u001b[1;33m=\u001b[0m \u001b[0mint\u001b[0m\u001b[1;33m(\u001b[0m\u001b[0minput\u001b[0m\u001b[1;33m(\u001b[0m\u001b[1;34m\"first no. : \"\u001b[0m\u001b[1;33m)\u001b[0m\u001b[1;33m)\u001b[0m\u001b[1;33m\u001b[0m\u001b[1;33m\u001b[0m\u001b[0m\n\u001b[0;32m      5\u001b[0m         \u001b[0mb\u001b[0m \u001b[1;33m=\u001b[0m \u001b[0mint\u001b[0m\u001b[1;33m(\u001b[0m\u001b[0minput\u001b[0m\u001b[1;33m(\u001b[0m\u001b[1;34m\"second no. : \"\u001b[0m\u001b[1;33m)\u001b[0m\u001b[1;33m)\u001b[0m\u001b[1;33m\u001b[0m\u001b[1;33m\u001b[0m\u001b[0m\n",
      "\u001b[1;32m~\\anaconda3\\lib\\site-packages\\ipykernel\\kernelbase.py\u001b[0m in \u001b[0;36mraw_input\u001b[1;34m(self, prompt)\u001b[0m\n\u001b[0;32m    858\u001b[0m                 \u001b[1;34m\"raw_input was called, but this frontend does not support input requests.\"\u001b[0m\u001b[1;33m\u001b[0m\u001b[1;33m\u001b[0m\u001b[0m\n\u001b[0;32m    859\u001b[0m             )\n\u001b[1;32m--> 860\u001b[1;33m         return self._input_request(str(prompt),\n\u001b[0m\u001b[0;32m    861\u001b[0m             \u001b[0mself\u001b[0m\u001b[1;33m.\u001b[0m\u001b[0m_parent_ident\u001b[0m\u001b[1;33m,\u001b[0m\u001b[1;33m\u001b[0m\u001b[1;33m\u001b[0m\u001b[0m\n\u001b[0;32m    862\u001b[0m             \u001b[0mself\u001b[0m\u001b[1;33m.\u001b[0m\u001b[0m_parent_header\u001b[0m\u001b[1;33m,\u001b[0m\u001b[1;33m\u001b[0m\u001b[1;33m\u001b[0m\u001b[0m\n",
      "\u001b[1;32m~\\anaconda3\\lib\\site-packages\\ipykernel\\kernelbase.py\u001b[0m in \u001b[0;36m_input_request\u001b[1;34m(self, prompt, ident, parent, password)\u001b[0m\n\u001b[0;32m    902\u001b[0m             \u001b[1;32mexcept\u001b[0m \u001b[0mKeyboardInterrupt\u001b[0m\u001b[1;33m:\u001b[0m\u001b[1;33m\u001b[0m\u001b[1;33m\u001b[0m\u001b[0m\n\u001b[0;32m    903\u001b[0m                 \u001b[1;31m# re-raise KeyboardInterrupt, to truncate traceback\u001b[0m\u001b[1;33m\u001b[0m\u001b[1;33m\u001b[0m\u001b[1;33m\u001b[0m\u001b[0m\n\u001b[1;32m--> 904\u001b[1;33m                 \u001b[1;32mraise\u001b[0m \u001b[0mKeyboardInterrupt\u001b[0m\u001b[1;33m(\u001b[0m\u001b[1;34m\"Interrupted by user\"\u001b[0m\u001b[1;33m)\u001b[0m \u001b[1;32mfrom\u001b[0m \u001b[1;32mNone\u001b[0m\u001b[1;33m\u001b[0m\u001b[1;33m\u001b[0m\u001b[0m\n\u001b[0m\u001b[0;32m    905\u001b[0m             \u001b[1;32mexcept\u001b[0m \u001b[0mException\u001b[0m \u001b[1;32mas\u001b[0m \u001b[0me\u001b[0m\u001b[1;33m:\u001b[0m\u001b[1;33m\u001b[0m\u001b[1;33m\u001b[0m\u001b[0m\n\u001b[0;32m    906\u001b[0m                 \u001b[0mself\u001b[0m\u001b[1;33m.\u001b[0m\u001b[0mlog\u001b[0m\u001b[1;33m.\u001b[0m\u001b[0mwarning\u001b[0m\u001b[1;33m(\u001b[0m\u001b[1;34m\"Invalid Message:\"\u001b[0m\u001b[1;33m,\u001b[0m \u001b[0mexc_info\u001b[0m\u001b[1;33m=\u001b[0m\u001b[1;32mTrue\u001b[0m\u001b[1;33m)\u001b[0m\u001b[1;33m\u001b[0m\u001b[1;33m\u001b[0m\u001b[0m\n",
      "\u001b[1;31mKeyboardInterrupt\u001b[0m: Interrupted by user"
     ]
    }
   ],
   "source": [
    "try :\n",
    "    t = int(input(\"how many no. do you want to find LCM of '(integers only)': \"))\n",
    "    if t == 3 :\n",
    "        a = int(input(\"first no. : \"))\n",
    "        b = int(input(\"second no. : \"))\n",
    "        c = int(input(\"third no. : \"))\n",
    "        x = max(a,b,c)\n",
    "        for i in range(1, 100000000*x) :\n",
    "            if (i*x)%a == 0 and (i*x)%b == 0 and (i*x)%c == 0 :\n",
    "                print(\"LCM is : \", i*x)\n",
    "                break\n",
    "    elif t == 1 :\n",
    "        a = int(input(\"type the no. : \"))\n",
    "        print(\"LCM is :\", a)\n",
    "    elif t == 2 :\n",
    "        a = int(input(\"first no. : \"))\n",
    "        b = int(input(\"second no. : \"))\n",
    "        x = max(a,b)\n",
    "        for i in range(1, 100000000*x) :\n",
    "            if (i*x)%a == 0 and (i*x)%b == 0 :\n",
    "                print(\"LCM is : \", i*x)\n",
    "                break    \n",
    "    elif t == 4 :\n",
    "        a = int(input(\"first no. : \"))\n",
    "        b = int(input(\"second no. : \"))\n",
    "        c = int(input(\"third no. : \"))\n",
    "        d = int(input(\"fourth no. : \"))\n",
    "        x = max(a,b,c,d)\n",
    "        for i in range(1, 100000000*x) :\n",
    "            if (i*x)%a == 0 and (i*x)%b == 0 and (i*x)%c == 0 and (i*x)%d :\n",
    "                print(\"LCM is : \", i*x)\n",
    "                break            \n",
    "                break    \n",
    "    elif t == 5 :\n",
    "        a = int(input(\"first no. : \"))\n",
    "        b = int(input(\"second no. : \"))\n",
    "        c = int(input(\"third no. : \"))\n",
    "        d = int(input(\"fourth no. : \"))\n",
    "        e = int(input(\"fifth no. : \"))\n",
    "        x = max(a,b,c,d,e)\n",
    "        for i in range(1, 100000000*x) :\n",
    "            if (i*x)%a == 0 and (i*x)%b == 0 and (i*x)%c and (i*x)%d and (i*x)%e == 0 :\n",
    "                print(\"LCM is : \", i*x)\n",
    "                break  \n",
    "    elif t > 5 or t < 0 :\n",
    "        print(\"please enter upto 5 no. only.\")\n",
    "except Exception as e :\n",
    "    print(\"please enter valid no. only. \", e)"
   ]
  },
  {
   "cell_type": "markdown",
   "id": "da8c3ff6",
   "metadata": {},
   "source": [
    "# 1. Write a Python Program to Find HCF?"
   ]
  },
  {
   "cell_type": "code",
   "execution_count": 57,
   "id": "1c191684",
   "metadata": {},
   "outputs": [
    {
     "name": "stdout",
     "output_type": "stream",
     "text": [
      "how many no. do you want to find HCF of : 3\n",
      "first no. : 12\n",
      "second no. : 34\n",
      "third no. : 54\n",
      "HCF is :  2\n"
     ]
    }
   ],
   "source": [
    "try :\n",
    "    t = int(input(\"how many no. do you want to find HCF of : \"))\n",
    "    if t == 1 :\n",
    "        a = int(input(\"type the no. : \"))\n",
    "        print(\"LCM is :\", a)\n",
    "    elif t == 3 :\n",
    "        a = int(input(\"first no. : \"))\n",
    "        b = int(input(\"second no. : \"))\n",
    "        c = int(input(\"third no. : \"))\n",
    "        x = min(a,b,c)\n",
    "        for i in range(x,0,-1) :\n",
    "            if a%i == 0 and b%i == 0 and c%i == 0 :\n",
    "                print(\"HCF is : \", i)\n",
    "                break\n",
    "    elif t == 2 :\n",
    "        a = int(input(\"first no. : \"))\n",
    "        b = int(input(\"second no. : \"))\n",
    "        x = min(a,b)\n",
    "        for i in range(x,0,-1) :\n",
    "            if a%i == 0 and b%i == 0 :\n",
    "                print(\"HCF is : \", i)\n",
    "                break            \n",
    "    elif t == 4 :\n",
    "        a = int(input(\"first no. : \"))\n",
    "        b = int(input(\"second no. : \"))\n",
    "        c = int(input(\"third no. : \"))\n",
    "        d = int(input(\"fourth no. : \"))\n",
    "        x = min(a,b,c,d)\n",
    "        for i in range(x,0,-1) :\n",
    "            if a%i == 0 and b%i == 0 and c%i == 0 and d%i == 0 :\n",
    "                print(\"HCF is : \", i)\n",
    "                break            \n",
    "    elif t == 5 :\n",
    "        a = int(input(\"first no. : \"))\n",
    "        b = int(input(\"second no. : \"))\n",
    "        c = int(input(\"third no. : \"))\n",
    "        d = int(input(\"fourt|h no. : \"))\n",
    "        e = int(input(\"fifth no. : \"))\n",
    "        x = min(a,b,c,d,e)\n",
    "        for i in range(x,0,-1) :\n",
    "            if a%i == 0 and b%i == 0 and c%i == 0 and d%i == 0 and e%i == 0 :\n",
    "                print(\"HCF is : \", i)\n",
    "                break                        \n",
    "    elif t > 5 or t < 0:\n",
    "                print(\"please enter upto 5 no. only.\")            \n",
    "except Exception as e :\n",
    "    print(\"please enter valid no. only. \", e)            \n"
   ]
  },
  {
   "cell_type": "markdown",
   "id": "a979ffe1",
   "metadata": {},
   "source": [
    "# 3. Write a Python Program to Convert Decimal to Binary, Octal and Hexadecimal?"
   ]
  },
  {
   "cell_type": "code",
   "execution_count": 43,
   "id": "66db7973",
   "metadata": {},
   "outputs": [
    {
     "name": "stdout",
     "output_type": "stream",
     "text": [
      "write a decimal no. to convert it into binary, octal or hexadecimal : 46\n",
      "in which numeric system you want to convert, type b for binary , o for octal, \n",
      "    h for hexadecimal : o\n",
      "[5, 6]\n"
     ]
    }
   ],
   "source": [
    "try :\n",
    "    import math\n",
    "    n = int(input(\"\"\"write a decimal no. to convert it into binary, octal or hexadecimal : \"\"\"))\n",
    "    t = input(\"\"\"in which numeric system you want to convert, type B for binary , O for octal, \n",
    "    H for hexadecimal : \"\"\".lower())\n",
    "\n",
    "    if t == \"b\" :\n",
    "        c = 2\n",
    "    elif t == \"o\" :\n",
    "        c = 8\n",
    "    elif t == \"h\" : \n",
    "        c = 6\n",
    "    l = []\n",
    "    while n > 0 :\n",
    "        b = n%c\n",
    "        n = math.floor(n/c)\n",
    "        l.append(b)\n",
    "    print(l[::-1])    \n",
    "except Exception as e :\n",
    "    print(\"please enter valid input only. \", e)\n",
    "    "
   ]
  },
  {
   "cell_type": "markdown",
   "id": "8ca3ed3c",
   "metadata": {},
   "source": [
    "# 4. Write a Python Program To Find ASCII value of a character?"
   ]
  },
  {
   "cell_type": "code",
   "execution_count": 53,
   "id": "18315f9f",
   "metadata": {},
   "outputs": [
    {
     "name": "stdout",
     "output_type": "stream",
     "text": [
      "please type a chatacter of which you want to find the ASCII value : d\n",
      "ASCII value of d is 100\n"
     ]
    }
   ],
   "source": [
    "try :\n",
    "    a = input(\"please type a chatacter of which you want to find the ASCII value : \")\n",
    "    b = ord(a)\n",
    "    print(\"ASCII value of \" + a + \" is\" , b)\n",
    "except Exception as e :\n",
    "    print(\"please enter valid input only. \", e)    "
   ]
  },
  {
   "cell_type": "markdown",
   "id": "f8a18402",
   "metadata": {},
   "source": [
    "# 5. Write a Python Program to Make a Simple Calculator with 4 basic mathematical operations?"
   ]
  },
  {
   "cell_type": "code",
   "execution_count": 44,
   "id": "f468329a",
   "metadata": {},
   "outputs": [
    {
     "name": "stdout",
     "output_type": "stream",
     "text": [
      "first no. : 444\n",
      "second no. : 34\n",
      "which operation you want to perform +, -, *, / : *\n",
      "15096.0\n"
     ]
    }
   ],
   "source": [
    "try :\n",
    "    a = float(input(\"first no. : \"))\n",
    "    b = float(input(\"second no. : \"))\n",
    "    ask = input(\"which operation you want to perform +, -, *, / : \")\n",
    "    if ask == \"+\" :\n",
    "        print(a+b)\n",
    "    elif ask == \"-\" :\n",
    "        print(a-b)\n",
    "    elif ask == \"*\" :\n",
    "        print(a*b)\n",
    "    elif ask == \"/\" :\n",
    "        print(a/b)\n",
    "    else :\n",
    "        print(\"please enter a valid operation only\")\n",
    "except Exception as e :\n",
    "    print(\"please enter valid input only. \", e)\n",
    "    "
   ]
  },
  {
   "cell_type": "code",
   "execution_count": null,
   "id": "6d9a4b99",
   "metadata": {},
   "outputs": [],
   "source": []
  }
 ],
 "metadata": {
  "kernelspec": {
   "display_name": "Python 3",
   "language": "python",
   "name": "python3"
  },
  "language_info": {
   "codemirror_mode": {
    "name": "ipython",
    "version": 3
   },
   "file_extension": ".py",
   "mimetype": "text/x-python",
   "name": "python",
   "nbconvert_exporter": "python",
   "pygments_lexer": "ipython3",
   "version": "3.8.8"
  }
 },
 "nbformat": 4,
 "nbformat_minor": 5
}
