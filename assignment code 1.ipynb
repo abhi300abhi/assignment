{
 "cells": [
  {
   "cell_type": "markdown",
   "id": "cc724561",
   "metadata": {},
   "source": [
    "# 1. Write a Python program to print \"Hello Python\"?"
   ]
  },
  {
   "cell_type": "code",
   "execution_count": 1,
   "id": "f56373ec",
   "metadata": {},
   "outputs": [
    {
     "data": {
      "text/plain": [
       "'Hello Python'"
      ]
     },
     "execution_count": 1,
     "metadata": {},
     "output_type": "execute_result"
    }
   ],
   "source": [
    "\"Hello Python\""
   ]
  },
  {
   "cell_type": "markdown",
   "id": "ebea6923",
   "metadata": {},
   "source": [
    "# 2. Write a Python program to do arithmetical operations addition and division.?"
   ]
  },
  {
   "cell_type": "code",
   "execution_count": 11,
   "id": "690e34e9",
   "metadata": {},
   "outputs": [
    {
     "name": "stdout",
     "output_type": "stream",
     "text": [
      "first number: 4\n"
     ]
    }
   ],
   "source": [
    "a = int(input(\"first number: \"))"
   ]
  },
  {
   "cell_type": "code",
   "execution_count": 12,
   "id": "3efcdfc8",
   "metadata": {},
   "outputs": [
    {
     "name": "stdout",
     "output_type": "stream",
     "text": [
      "second number: 6\n"
     ]
    }
   ],
   "source": [
    "b = int(input(\"second number: \"))"
   ]
  },
  {
   "cell_type": "code",
   "execution_count": 13,
   "id": "f0eb7c17",
   "metadata": {},
   "outputs": [],
   "source": [
    "c = str(a + b) "
   ]
  },
  {
   "cell_type": "code",
   "execution_count": 14,
   "id": "bf69d8e3",
   "metadata": {},
   "outputs": [
    {
     "data": {
      "text/plain": [
       "'sum is 10'"
      ]
     },
     "execution_count": 14,
     "metadata": {},
     "output_type": "execute_result"
    }
   ],
   "source": [
    "\"sum is \" + c  "
   ]
  },
  {
   "cell_type": "code",
   "execution_count": 16,
   "id": "4a69163e",
   "metadata": {},
   "outputs": [],
   "source": [
    "d = str(a / b)"
   ]
  },
  {
   "cell_type": "code",
   "execution_count": 17,
   "id": "e20d3dea",
   "metadata": {},
   "outputs": [
    {
     "data": {
      "text/plain": [
       "'division is 0.6666666666666666'"
      ]
     },
     "execution_count": 17,
     "metadata": {},
     "output_type": "execute_result"
    }
   ],
   "source": [
    "\"division is \" + d"
   ]
  },
  {
   "cell_type": "markdown",
   "id": "111a63fc",
   "metadata": {},
   "source": [
    "# 3. Write a Python program to find the area of a triangle?"
   ]
  },
  {
   "cell_type": "code",
   "execution_count": 70,
   "id": "8e65e1d6",
   "metadata": {},
   "outputs": [
    {
     "name": "stdout",
     "output_type": "stream",
     "text": [
      "side a = 67\n"
     ]
    }
   ],
   "source": [
    "a = float(input(\"side a = \"))"
   ]
  },
  {
   "cell_type": "code",
   "execution_count": 71,
   "id": "9cbf1e5b",
   "metadata": {},
   "outputs": [
    {
     "name": "stdout",
     "output_type": "stream",
     "text": [
      "side b = 67\n"
     ]
    }
   ],
   "source": [
    "b = float(input(\"side b = \"))"
   ]
  },
  {
   "cell_type": "code",
   "execution_count": 72,
   "id": "5dd07f50",
   "metadata": {},
   "outputs": [
    {
     "name": "stdout",
     "output_type": "stream",
     "text": [
      "side c = 88888\n"
     ]
    }
   ],
   "source": [
    "c = float(input(\"side c = \"))"
   ]
  },
  {
   "cell_type": "code",
   "execution_count": 73,
   "id": "85f93e2f",
   "metadata": {},
   "outputs": [],
   "source": [
    "s = (a + b + c)/2"
   ]
  },
  {
   "cell_type": "code",
   "execution_count": 74,
   "id": "2a5455d7",
   "metadata": {},
   "outputs": [],
   "source": [
    "area = (s*(s-a)*(s-b)*(s-c))**0.5"
   ]
  },
  {
   "cell_type": "code",
   "execution_count": 75,
   "id": "dd8d3118",
   "metadata": {},
   "outputs": [],
   "source": [
    "d = type(area)"
   ]
  },
  {
   "cell_type": "code",
   "execution_count": 78,
   "id": "d27c4ce7",
   "metadata": {},
   "outputs": [
    {
     "name": "stdout",
     "output_type": "stream",
     "text": [
      "This triangle is not possible.\n"
     ]
    }
   ],
   "source": [
    "if d == complex :\n",
    "    print(\"This triangle is not possible.\")\n",
    "else:\n",
    "    print(\"area is \" + str(area))"
   ]
  },
  {
   "cell_type": "markdown",
   "id": "a3f08003",
   "metadata": {},
   "source": [
    "# 4. Write a Python program to swap two variables?"
   ]
  },
  {
   "cell_type": "code",
   "execution_count": 90,
   "id": "39d1787e",
   "metadata": {},
   "outputs": [
    {
     "name": "stdout",
     "output_type": "stream",
     "text": [
      "FIRST NO. :56\n"
     ]
    }
   ],
   "source": [
    "a = input(\"FIRST NO. :\")"
   ]
  },
  {
   "cell_type": "code",
   "execution_count": 91,
   "id": "51b80bb1",
   "metadata": {},
   "outputs": [
    {
     "name": "stdout",
     "output_type": "stream",
     "text": [
      "SECOND NO. :89\n"
     ]
    }
   ],
   "source": [
    "b = input(\"SECOND NO. :\")"
   ]
  },
  {
   "cell_type": "code",
   "execution_count": 94,
   "id": "6467d739",
   "metadata": {},
   "outputs": [],
   "source": [
    "t = a"
   ]
  },
  {
   "cell_type": "code",
   "execution_count": 95,
   "id": "efb4c825",
   "metadata": {},
   "outputs": [],
   "source": [
    "a = b"
   ]
  },
  {
   "cell_type": "code",
   "execution_count": 96,
   "id": "57d9cd9f",
   "metadata": {},
   "outputs": [],
   "source": [
    "b = t"
   ]
  },
  {
   "cell_type": "code",
   "execution_count": 101,
   "id": "f59e1c87",
   "metadata": {},
   "outputs": [],
   "source": [
    "c = a.format(b)"
   ]
  },
  {
   "cell_type": "code",
   "execution_count": 102,
   "id": "1f102d53",
   "metadata": {},
   "outputs": [],
   "source": [
    "d = b.format(a)"
   ]
  },
  {
   "cell_type": "code",
   "execution_count": 103,
   "id": "8feeb8a8",
   "metadata": {},
   "outputs": [
    {
     "data": {
      "text/plain": [
       "'FIRST NO. after swaping : 89'"
      ]
     },
     "execution_count": 103,
     "metadata": {},
     "output_type": "execute_result"
    }
   ],
   "source": [
    "f\"FIRST NO. after swaping is : \" + c "
   ]
  },
  {
   "cell_type": "code",
   "execution_count": 105,
   "id": "f537113a",
   "metadata": {},
   "outputs": [
    {
     "data": {
      "text/plain": [
       "'SECOND NO. after swaping is : 56'"
      ]
     },
     "execution_count": 105,
     "metadata": {},
     "output_type": "execute_result"
    }
   ],
   "source": [
    "f\"SECOND NO. after swaping is : \" + d"
   ]
  },
  {
   "cell_type": "markdown",
   "id": "15ddc9fc",
   "metadata": {},
   "source": [
    "# 5. Write a Python program to generate a random number?"
   ]
  },
  {
   "cell_type": "code",
   "execution_count": 106,
   "id": "0aa15bf1",
   "metadata": {},
   "outputs": [],
   "source": [
    "import random "
   ]
  },
  {
   "cell_type": "code",
   "execution_count": 121,
   "id": "b493ecec",
   "metadata": {},
   "outputs": [
    {
     "data": {
      "text/plain": [
       "18"
      ]
     },
     "execution_count": 121,
     "metadata": {},
     "output_type": "execute_result"
    }
   ],
   "source": [
    "random.randint(0,100)"
   ]
  },
  {
   "cell_type": "code",
   "execution_count": null,
   "id": "75cc84c9",
   "metadata": {},
   "outputs": [],
   "source": []
  }
 ],
 "metadata": {
  "kernelspec": {
   "display_name": "Python 3",
   "language": "python",
   "name": "python3"
  },
  "language_info": {
   "codemirror_mode": {
    "name": "ipython",
    "version": 3
   },
   "file_extension": ".py",
   "mimetype": "text/x-python",
   "name": "python",
   "nbconvert_exporter": "python",
   "pygments_lexer": "ipython3",
   "version": "3.8.8"
  }
 },
 "nbformat": 4,
 "nbformat_minor": 5
}
