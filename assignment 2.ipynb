{
 "cells": [
  {
   "cell_type": "markdown",
   "id": "21966b97",
   "metadata": {},
   "source": [
    "# 1.What are the two values of the Boolean data type? How do you write them?"
   ]
  },
  {
   "cell_type": "markdown",
   "id": "9f1c98e7",
   "metadata": {},
   "source": [
    "# Ans \n",
    "The two values of the boolean data type are true and false.\n",
    "\n",
    "These are written as True and False (first letter upper case and rest letters lower case)"
   ]
  },
  {
   "cell_type": "markdown",
   "id": "89ad5d56",
   "metadata": {},
   "source": [
    "# 2. What are the three different types of Boolean operators?"
   ]
  },
  {
   "cell_type": "markdown",
   "id": "8553122d",
   "metadata": {},
   "source": [
    "# Ans\n",
    "The three types of boolean operators are :\n",
    "\n",
    "1.and\n",
    "\n",
    "2.or\n",
    "\n",
    "3.not"
   ]
  },
  {
   "cell_type": "markdown",
   "id": "fd966db6",
   "metadata": {},
   "source": [
    "# 3. Make a list of each Boolean operator's truth tables (i.e. every possible combination of Boolean values for the operator and what it evaluate )."
   ]
  },
  {
   "cell_type": "markdown",
   "id": "54ca6d80",
   "metadata": {},
   "source": [
    "# Ans\n",
    " X     |   Y   |    not X |  X and Y | X or Y\n",
    "  \n",
    "false  |  false  |  true |   false |  false\n",
    "\n",
    "false  |  true   |  true  |  false  |  true\n",
    "\n",
    " true   |  false  |  false |  false  |  true\n",
    "\n",
    " true   |  true  |   false  | true  |  true"
   ]
  },
  {
   "cell_type": "markdown",
   "id": "8272bd93",
   "metadata": {},
   "source": [
    "# 4. What are the values of the following expressions?\n",
    "(5 > 4) and (3 == 5)\n",
    "\n",
    "not (5 > 4)\n",
    "\n",
    "(5 > 4) or (3 == 5)\n",
    "\n",
    "not ((5 > 4) or (3 == 5))\n",
    "\n",
    "(True and True) and (True == False)\n",
    "\n",
    "(not False) or (not True)"
   ]
  },
  {
   "cell_type": "markdown",
   "id": "9e5002ff",
   "metadata": {},
   "source": [
    "# Ans\n",
    "(5 > 4) and (3 == 5) : False\n",
    "\n",
    "not (5 > 4) : False\n",
    "\n",
    "(5 > 4) or (3 == 5) : True\n",
    "\n",
    "not ((5 > 4) or (3 == 5)) : False\n",
    "\n",
    "(True and True) and (True == False) : False\n",
    "\n",
    "(not False) or (not True) : True"
   ]
  },
  {
   "cell_type": "markdown",
   "id": "9e2f58e1",
   "metadata": {},
   "source": [
    "# 5. What are the six comparison operators?"
   ]
  },
  {
   "cell_type": "markdown",
   "id": "aa89acc9",
   "metadata": {},
   "source": [
    "# Ans\n",
    "The six comparison operators are:\n",
    "\n",
    "1.less than(<)\n",
    "\n",
    "2.less than equal to(<=)\n",
    "\n",
    "3.greater than(>)\n",
    "\n",
    "4.greater than equal to(>=)\n",
    "\n",
    "5.equal to(==)\n",
    "\n",
    "6.not equal to(!=)"
   ]
  },
  {
   "cell_type": "markdown",
   "id": "d4819e5b",
   "metadata": {},
   "source": [
    "# 6. How do you tell the difference between the equal to and assignment operators?Describe a condition and when you would use one."
   ]
  },
  {
   "cell_type": "markdown",
   "id": "60ee7873",
   "metadata": {},
   "source": [
    "# Ans \n",
    "When we use single equal(=) sign it means assignment and when we use double equal(==) sign it means equal to.\n",
    "\n",
    "for eg. a = 10 or a = \"abhi\" means \"a\" is assigned a value 10 or a string \"abhi\". Here \"a\" is a variable.\n",
    "\n",
    "a == 10 or a == \"abhi\" means  \"a\" is equal to 10 or a string  \"abhi\"."
   ]
  },
  {
   "cell_type": "code",
   "execution_count": 1,
   "id": "381053a3",
   "metadata": {},
   "outputs": [
    {
     "data": {
      "text/plain": [
       "[1, 3, 5, 7]"
      ]
     },
     "execution_count": 1,
     "metadata": {},
     "output_type": "execute_result"
    }
   ],
   "source": [
    "l1 = [1,3,5,7,23.45,3+4j, True]\n",
    "l = []\n",
    "#here assignment is done on l1 and l\n",
    "for i in l1 : \n",
    "    if type(i) == int:\n",
    "#here type(i) is equated to data type integer.\n",
    "        l.append(i)\n",
    "        \n",
    "l"
   ]
  },
  {
   "cell_type": "markdown",
   "id": "5a8332f8",
   "metadata": {},
   "source": [
    "# 7. Identify the three blocks in this code:\n",
    "spam = 0\n",
    "\n",
    "if spam == 10:\n",
    "\n",
    "print(\"eggs\")\n",
    "\n",
    "if spam > 5:\n",
    "\n",
    "print(\"bacon\")\n",
    "\n",
    "else:\n",
    "\n",
    "print(\"ham\")\n",
    "\n",
    "print(\"spam\")\n",
    "\n",
    "print(\"spam\")"
   ]
  },
  {
   "cell_type": "code",
   "execution_count": 6,
   "id": "f082ace9",
   "metadata": {},
   "outputs": [
    {
     "name": "stdout",
     "output_type": "stream",
     "text": [
      "spam\n"
     ]
    }
   ],
   "source": [
    "spam = 0\n",
    "\n",
    "if spam == 10:               #first block\n",
    "\n",
    "    print(\"eggs\")            \n",
    "\n",
    "    if spam > 5:             #second block in first block\n",
    "\n",
    "        print(\"bacon\")\n",
    "\n",
    "    else:                    #third block in first block\n",
    "    \n",
    "        print(\"ham\")\n",
    "\n",
    "    print(\"spam\")\n",
    "\n",
    "print(\"spam\")"
   ]
  },
  {
   "cell_type": "markdown",
   "id": "11c4465d",
   "metadata": {},
   "source": [
    "# 8. Write code that prints Hello if 1 is stored in spam, prints Howdy if 2 is stored in spam, and prints Greetings! if anything else is stored in spam."
   ]
  },
  {
   "cell_type": "code",
   "execution_count": 7,
   "id": "46e789b0",
   "metadata": {},
   "outputs": [
    {
     "name": "stdout",
     "output_type": "stream",
     "text": [
      "input any spam no. : 2\n",
      "howdy\n"
     ]
    }
   ],
   "source": [
    "#Ans\n",
    "spam = input(\"input any spam no. : \")\n",
    "if int(spam) == 1 :\n",
    "    print(\"hello\")\n",
    "elif int(spam) == 2:\n",
    "    print(\"howdy\")\n",
    "else :\n",
    "    print(\"Greetings!\")"
   ]
  },
  {
   "cell_type": "markdown",
   "id": "9791b1da",
   "metadata": {},
   "source": [
    "# 9.If your programme is stuck in an endless loop, what keys you’ll press?"
   ]
  },
  {
   "cell_type": "markdown",
   "id": "efb13243",
   "metadata": {},
   "source": [
    "# Ans \n",
    "If the programme is stuck in an endless loop press (ctrl+c) key."
   ]
  },
  {
   "cell_type": "markdown",
   "id": "0b35879f",
   "metadata": {},
   "source": [
    "# 10. How can you tell the difference between break and continue?"
   ]
  },
  {
   "cell_type": "markdown",
   "id": "6de7cd7e",
   "metadata": {},
   "source": [
    "# Ans\n",
    "Break is the keyword used when we want to come out of the loop, and continue is the keyword \n",
    "used when we want to get back to the loop."
   ]
  },
  {
   "cell_type": "markdown",
   "id": "aa20c9ce",
   "metadata": {},
   "source": [
    "# 11. In a for loop, what is the difference between range(10), range(0, 10), and range(0, 10, 1)?"
   ]
  },
  {
   "cell_type": "markdown",
   "id": "865a7a62",
   "metadata": {},
   "source": [
    "# Ans \n",
    "range(10) , range(0,10) and range(0,10,1) do not have any difference in the programme but in the \n",
    "first one the starting point and step size not specified so it takes automatically 0 as starting point \n",
    "and step size as 1 , in the second one starting point is specified is mentioned but not step size so it \n",
    "took automatically 1, and in the last one all are mentioned."
   ]
  },
  {
   "cell_type": "markdown",
   "id": "23059312",
   "metadata": {},
   "source": [
    "# 12. Write a short program that prints the numbers 1 to 10 using a for loop. Then write an equivalent program that prints the numbers 1 to 10 using a while loop."
   ]
  },
  {
   "cell_type": "code",
   "execution_count": 14,
   "id": "4e1d13d1",
   "metadata": {},
   "outputs": [
    {
     "name": "stdout",
     "output_type": "stream",
     "text": [
      "1\n",
      "2\n",
      "3\n",
      "4\n",
      "5\n",
      "6\n",
      "7\n",
      "8\n",
      "9\n",
      "10\n"
     ]
    }
   ],
   "source": [
    "#Ans\n",
    "for i in range(1,11):\n",
    "    print(i)"
   ]
  },
  {
   "cell_type": "code",
   "execution_count": 15,
   "id": "e7d67966",
   "metadata": {},
   "outputs": [
    {
     "name": "stdout",
     "output_type": "stream",
     "text": [
      "1\n",
      "2\n",
      "3\n",
      "4\n",
      "5\n",
      "6\n",
      "7\n",
      "8\n",
      "9\n",
      "10\n"
     ]
    }
   ],
   "source": [
    "a = 1\n",
    "while a<11:\n",
    "    print(a)\n",
    "    a += 1"
   ]
  },
  {
   "cell_type": "markdown",
   "id": "22819ce5",
   "metadata": {},
   "source": [
    "# 13. If you had a function named bacon() inside a module named spam, how would you call it after importing spam?"
   ]
  },
  {
   "cell_type": "markdown",
   "id": "0ba4dd79",
   "metadata": {},
   "source": [
    "# Ans\n",
    "spam.bacon()\n",
    "    "
   ]
  },
  {
   "cell_type": "code",
   "execution_count": null,
   "id": "1350c863",
   "metadata": {},
   "outputs": [],
   "source": []
  }
 ],
 "metadata": {
  "kernelspec": {
   "display_name": "Python 3",
   "language": "python",
   "name": "python3"
  },
  "language_info": {
   "codemirror_mode": {
    "name": "ipython",
    "version": 3
   },
   "file_extension": ".py",
   "mimetype": "text/x-python",
   "name": "python",
   "nbconvert_exporter": "python",
   "pygments_lexer": "ipython3",
   "version": "3.8.8"
  }
 },
 "nbformat": 4,
 "nbformat_minor": 5
}
