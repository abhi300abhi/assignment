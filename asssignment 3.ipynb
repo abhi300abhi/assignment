{
 "cells": [
  {
   "cell_type": "markdown",
   "id": "6c94427f",
   "metadata": {},
   "source": [
    "# 1. Why are functions advantageous to have in your programs?"
   ]
  },
  {
   "cell_type": "markdown",
   "id": "0f5e8628",
   "metadata": {},
   "source": [
    "# Ans\n",
    "Functions are very advantageous to have in your programs because you don't have to write full block of program again and again you just have to call the functions only and it saves the time of the programs."
   ]
  },
  {
   "cell_type": "markdown",
   "id": "821f2088",
   "metadata": {},
   "source": [
    "# 2. When does the code in a function run: when it's specified or when it's called?"
   ]
  },
  {
   "cell_type": "markdown",
   "id": "a3473472",
   "metadata": {},
   "source": [
    "# Ans\n",
    "When a function is called it recalls the whole block of code under the function we have called and it runs that code line by line."
   ]
  },
  {
   "cell_type": "markdown",
   "id": "1c428409",
   "metadata": {},
   "source": [
    "# 3. What statement creates a function?"
   ]
  },
  {
   "cell_type": "markdown",
   "id": "b52cc0f8",
   "metadata": {},
   "source": [
    "# Ans\n",
    "\"def\" statement creates a function."
   ]
  },
  {
   "cell_type": "markdown",
   "id": "123b0306",
   "metadata": {},
   "source": [
    "# 4. What is the difference between a function and a function call?"
   ]
  },
  {
   "cell_type": "markdown",
   "id": "5c3d013a",
   "metadata": {},
   "source": [
    "# Ans\n",
    "A function is a block of code that does a particular operation and returns a result. It usually accepts inputs as parameters and returns a result. The parameters are not mandatory. A function call is the code used to pass control to a function ."
   ]
  },
  {
   "cell_type": "markdown",
   "id": "76e013f5",
   "metadata": {},
   "source": [
    "# 5. How many global scopes are there in a Python program? How many local scopes?"
   ]
  },
  {
   "cell_type": "markdown",
   "id": "130432a0",
   "metadata": {},
   "source": [
    "# Ans\n",
    "There’s only one global Python scope per program execution. A variable created in the main body of the Python code is a global variable and belongs to the global scope.\n",
    "\n",
    "Global variables are available from within any scope, global and local.\n",
    "\n",
    "A variable created inside a function belongs to the local scope of that function, and can only be used inside that function."
   ]
  },
  {
   "cell_type": "markdown",
   "id": "1c534c43",
   "metadata": {},
   "source": [
    "# 6. What happens to variables in a local scope when the function call returns?"
   ]
  },
  {
   "cell_type": "markdown",
   "id": "60af33ce",
   "metadata": {},
   "source": [
    "# Ans\n",
    "The local variables got destroyed after the function call returns.That means it can not be called again in the programe without defining it."
   ]
  },
  {
   "cell_type": "markdown",
   "id": "79e7071b",
   "metadata": {},
   "source": [
    "# 7. What is the concept of a return value? Is it possible to have a return value in an expression?"
   ]
  },
  {
   "cell_type": "markdown",
   "id": "5c6b10c0",
   "metadata": {},
   "source": [
    "# Ans\n",
    "A return statement is used to end the execution of the function call and “returns” the result (value of the expression following the return keyword) to the caller. The statements after the return statements are not executed.\n",
    "\n",
    "Yes it is possible to have areturn value in an expression but only in a function."
   ]
  },
  {
   "cell_type": "markdown",
   "id": "abfdc544",
   "metadata": {},
   "source": [
    "# 8. If a function does not have a return statement, what is the return value of a call to that function?"
   ]
  },
  {
   "cell_type": "markdown",
   "id": "4b546f8d",
   "metadata": {},
   "source": [
    "# Ans \n",
    "If a function does not have a return statement then it will return a none type or undefined."
   ]
  },
  {
   "cell_type": "markdown",
   "id": "a2426dc0",
   "metadata": {},
   "source": [
    "# 9. How do you make a function variable refer to the global variable?"
   ]
  },
  {
   "cell_type": "markdown",
   "id": "56f98f79",
   "metadata": {},
   "source": [
    "# Ans\n",
    "If you want to refer to a global variable in a function, you can use the global keyword to declare which variables are global."
   ]
  },
  {
   "cell_type": "markdown",
   "id": "c7833299",
   "metadata": {},
   "source": [
    "# 10. What is the data type of None?"
   ]
  },
  {
   "cell_type": "markdown",
   "id": "8e17817a",
   "metadata": {},
   "source": [
    "# Ans\n",
    "“None” data type in Python is same as “null” in other programming languages.\n",
    "\n",
    "It means the variable contains nothing as its value & also we can override it further according to the necessities."
   ]
  },
  {
   "cell_type": "markdown",
   "id": "58332c7c",
   "metadata": {},
   "source": [
    "# 11. What does the sentence import areallyourpetsnamederic do?"
   ]
  },
  {
   "cell_type": "markdown",
   "id": "25aff368",
   "metadata": {},
   "source": [
    "# Ans\n",
    "That import statement imports a module named areallyourpetsnamederic. It is not a python module but we can create a module of this name."
   ]
  },
  {
   "cell_type": "markdown",
   "id": "1e8dd10b",
   "metadata": {},
   "source": [
    "# 12. If you had a bacon() feature in a spam module, what would you call it after importing spam?"
   ]
  },
  {
   "cell_type": "markdown",
   "id": "cd9c453e",
   "metadata": {},
   "source": [
    "# Ans\n",
    "spam.bacon()"
   ]
  },
  {
   "cell_type": "markdown",
   "id": "bc0418ac",
   "metadata": {},
   "source": [
    "# 13. What can you do to save a programme from crashing if it encounters an error?"
   ]
  },
  {
   "cell_type": "markdown",
   "id": "2cb8b240",
   "metadata": {},
   "source": [
    "# Ans\n",
    "We can use a try and except block to save a programme from crashing. This is called Exception handling."
   ]
  },
  {
   "cell_type": "markdown",
   "id": "c7af173e",
   "metadata": {},
   "source": [
    "# 14. What is the purpose of the try clause? What is the purpose of the except clause?"
   ]
  },
  {
   "cell_type": "markdown",
   "id": "45789284",
   "metadata": {},
   "source": [
    "# Ans\n",
    "The try block lets you test a block of code for errors.\n",
    "\n",
    "The except block lets you handle the error."
   ]
  }
 ],
 "metadata": {
  "kernelspec": {
   "display_name": "Python 3",
   "language": "python",
   "name": "python3"
  },
  "language_info": {
   "codemirror_mode": {
    "name": "ipython",
    "version": 3
   },
   "file_extension": ".py",
   "mimetype": "text/x-python",
   "name": "python",
   "nbconvert_exporter": "python",
   "pygments_lexer": "ipython3",
   "version": "3.8.8"
  }
 },
 "nbformat": 4,
 "nbformat_minor": 5
}
