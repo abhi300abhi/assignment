{
 "cells": [
  {
   "cell_type": "markdown",
   "id": "152892fa",
   "metadata": {},
   "source": [
    "# 1. What exactly is []?"
   ]
  },
  {
   "cell_type": "markdown",
   "id": "d2dec5f1",
   "metadata": {},
   "source": [
    "# Ans\n",
    "By square brackets [] list is created."
   ]
  },
  {
   "cell_type": "markdown",
   "id": "86ab916c",
   "metadata": {},
   "source": [
    "# 2. In a list of values stored in a variable called spam, how would you assign the value &#39;hello&#39; as the third value? (Assume [2, 4, 6, 8, 10] are in spam.)"
   ]
  },
  {
   "cell_type": "markdown",
   "id": "178ee845",
   "metadata": {},
   "source": [
    "# Ans\n",
    "spam = [2,4,6,8,10]\n",
    "\n",
    "spam[2] = \"hello\"\n",
    "\n",
    "spam\n",
    "\n",
    "or \n",
    "\n",
    "spam = [2,4,6,8,10]\n",
    "\n",
    "spam.insert(2,\"hello\")\n",
    "\n",
    "spam"
   ]
  },
  {
   "cell_type": "markdown",
   "id": "558785ac",
   "metadata": {},
   "source": [
    "# Let's pretend the spam includes the list[\"a\",\"b\",\"c\",\"d\"]  for the next three queries."
   ]
  },
  {
   "cell_type": "markdown",
   "id": "208911e8",
   "metadata": {},
   "source": [
    "# 3. What is the value of spam[int(int('3' * 2) / 11)]?"
   ]
  },
  {
   "cell_type": "markdown",
   "id": "da3276f7",
   "metadata": {},
   "source": [
    "# Ans\n",
    "\"d\""
   ]
  },
  {
   "cell_type": "markdown",
   "id": "24d84232",
   "metadata": {},
   "source": [
    "# 4. What is the value of spam[-1]?"
   ]
  },
  {
   "cell_type": "markdown",
   "id": "5e9b3ec6",
   "metadata": {},
   "source": [
    "# Ans\n",
    "\"d\""
   ]
  },
  {
   "cell_type": "markdown",
   "id": "b6ed1651",
   "metadata": {},
   "source": [
    "# 5. What is the value of spam[:2]?"
   ]
  },
  {
   "cell_type": "markdown",
   "id": "1b1e704e",
   "metadata": {},
   "source": [
    "# Ans\n",
    "[\"a\", \"b\"]"
   ]
  },
  {
   "cell_type": "markdown",
   "id": "0dafc928",
   "metadata": {},
   "source": [
    "# Let's pretend bacon has the list [3.14, 'cat' ,11, 'cat', True] for the next three questions."
   ]
  },
  {
   "cell_type": "markdown",
   "id": "45ea0feb",
   "metadata": {},
   "source": [
    "# 6. What is the value of bacon.index('cat')?"
   ]
  },
  {
   "cell_type": "markdown",
   "id": "d3559304",
   "metadata": {},
   "source": [
    "# Ans\n",
    "1"
   ]
  },
  {
   "cell_type": "markdown",
   "id": "9697d018",
   "metadata": {},
   "source": [
    "# 7. How does bacon.append(99) change the look of the list value in bacon?"
   ]
  },
  {
   "cell_type": "markdown",
   "id": "1f076685",
   "metadata": {},
   "source": [
    "# Ans\n",
    "The list will get change to [3.14,\"cat\",11,\"cat\",True, 99]"
   ]
  },
  {
   "cell_type": "markdown",
   "id": "1bcb6cc0",
   "metadata": {},
   "source": [
    "# 8. How does bacon.remove(&#39;cat&#39;) change the look of the list in bacon?"
   ]
  },
  {
   "cell_type": "markdown",
   "id": "6cabc65b",
   "metadata": {},
   "source": [
    "# Ans \n",
    "The list will get change to [3.14, 11, 'cat', True]"
   ]
  },
  {
   "cell_type": "markdown",
   "id": "7b73e0a2",
   "metadata": {},
   "source": [
    "# 9. What are the list concatenation and list replication operators?"
   ]
  },
  {
   "cell_type": "markdown",
   "id": "d6137f9b",
   "metadata": {},
   "source": [
    "# Ans\n",
    "The operator for list concatenation is +, while the operator for replication is *.\n"
   ]
  },
  {
   "cell_type": "markdown",
   "id": "86da41bb",
   "metadata": {},
   "source": [
    "# 10. What is difference between the list methods append() and insert()?"
   ]
  },
  {
   "cell_type": "markdown",
   "id": "500b1e34",
   "metadata": {},
   "source": [
    "# Ans \n",
    "When method append() is used element that we pass in gets added to the list at the last index and it need only one argument to pass.\n",
    "\n",
    "but when the method insert() is used element gets added at the index we want it to add and this needs two arguments to pass ,first one is the index at which we want to add the element and second is the element taht we want to add."
   ]
  },
  {
   "cell_type": "markdown",
   "id": "ed0db48d",
   "metadata": {},
   "source": [
    "# 11. What are the two methods for removing items from a list?"
   ]
  },
  {
   "cell_type": "markdown",
   "id": "13fe5c81",
   "metadata": {},
   "source": [
    "# Ans \n",
    "The two methods to remove the items from a list are:\n",
    "\n",
    "    1. remove() : In this method we have to give item's name which we want to remove.\n",
    "    \n",
    "    2. pop() : In this method we have to give index of the item that we want to remove."
   ]
  },
  {
   "cell_type": "markdown",
   "id": "462b1f70",
   "metadata": {},
   "source": [
    "# 12. Describe how list values and string values are identical."
   ]
  },
  {
   "cell_type": "markdown",
   "id": "7db091e7",
   "metadata": {},
   "source": [
    "# Ans\n",
    "The main similarity between Strings and List is that in Python both are sequences. A string is a character's sequence between single or double quotations. A list is an item sequence in which each item could be anything such as a float, an integer, a string, etc..\n",
    "\n",
    "The second similarity between Strings and Lists is that both strings and lists have lengths. A length of a string is the number of characters in the string and a length of a list is the number of items in the list.\n",
    "\n",
    "Every character in a string as well as every item in a list has a position which is known as an index.\n"
   ]
  },
  {
   "cell_type": "markdown",
   "id": "eed83ef2",
   "metadata": {},
   "source": [
    "# 13. What's the difference between tuples and lists?"
   ]
  },
  {
   "cell_type": "markdown",
   "id": "9e7772a6",
   "metadata": {},
   "source": [
    "# Ans \n",
    "The main difference between list and tuple is that list is a mutable object but tuple is not mutable."
   ]
  },
  {
   "cell_type": "markdown",
   "id": "3b0a3cb0",
   "metadata": {},
   "source": [
    "# 14. How do you type a tuple value that only contains the integer 42?"
   ]
  },
  {
   "cell_type": "code",
   "execution_count": 20,
   "id": "12b08f7e",
   "metadata": {},
   "outputs": [
    {
     "data": {
      "text/plain": [
       "tuple"
      ]
     },
     "execution_count": 20,
     "metadata": {},
     "output_type": "execute_result"
    }
   ],
   "source": [
    "t = (42,) # We have to use a comma after the item for making it tuple type.\n",
    "type(t)"
   ]
  },
  {
   "cell_type": "markdown",
   "id": "eddba27c",
   "metadata": {},
   "source": [
    "# 15. How do you get a list value's tuple form? How do you get a tuple value's list form?"
   ]
  },
  {
   "cell_type": "markdown",
   "id": "3874f7cd",
   "metadata": {},
   "source": [
    "# Ans\n",
    "tuple() function can take any iterable as an argument and convert it into a tuple object. As you wish to convert a python list to a tuple, you can pass the entire list as a parameter within the tuple() function, and it will return the tuple data type as an output. \n",
    "\n",
    "list() function can take any iterable as an argument and convert it into a list object. As you wish to convert a python tuple to a list, you can pass the entire tuple as a parameter within the list() function, and it will return the list data type as an output. "
   ]
  },
  {
   "cell_type": "code",
   "execution_count": 23,
   "id": "3309fd38",
   "metadata": {},
   "outputs": [
    {
     "name": "stdout",
     "output_type": "stream",
     "text": [
      "[1.21, 1, 1, 221, 21, 2, 21, 2, 'abhi']\n",
      "(1.21, 1, 1, 221, 21, 2, 21, 2, 'abhi')\n"
     ]
    }
   ],
   "source": [
    "t = (1.21,1,1,221,21,2,21,2,\"abhi\")\n",
    "l = list(t)\n",
    "print(l)\n",
    "t1 = tuple(l)\n",
    "print(t1)"
   ]
  },
  {
   "cell_type": "markdown",
   "id": "73cc0d6e",
   "metadata": {},
   "source": [
    "# 16. Variables that \"contain\" list values are not necessarily lists themselves. Instead, what do they contain?"
   ]
  },
  {
   "cell_type": "markdown",
   "id": "17ca2a59",
   "metadata": {},
   "source": [
    "# Ans\n",
    "Variables will contain references to list values rather than list values themselves. But for strings and integer values, variables simply contain the string or integer value."
   ]
  },
  {
   "cell_type": "markdown",
   "id": "0a10e55e",
   "metadata": {},
   "source": [
    "# 17. How do you distinguish between copy.copy() and copy.deepcopy()?"
   ]
  },
  {
   "cell_type": "markdown",
   "id": "ef0dd5c8",
   "metadata": {},
   "source": [
    "# Ans\n",
    "copy() create reference to original object. If you change copied object - you change the original object. deepcopy() creates new object and does real copying of original object to new one. Changing new deepcopied object doesn't affect original object."
   ]
  },
  {
   "cell_type": "code",
   "execution_count": 6,
   "id": "cdedaa21",
   "metadata": {},
   "outputs": [
    {
     "data": {
      "text/plain": [
       "'abhi'"
      ]
     },
     "execution_count": 6,
     "metadata": {},
     "output_type": "execute_result"
    }
   ],
   "source": [
    "import copy\n",
    "a = \"abhi\"\n",
    "b = copy.copy(a)\n",
    "b\n",
    "c = copy.deepcopy(a)\n",
    "c"
   ]
  },
  {
   "cell_type": "code",
   "execution_count": null,
   "id": "1f21c106",
   "metadata": {},
   "outputs": [],
   "source": []
  }
 ],
 "metadata": {
  "kernelspec": {
   "display_name": "Python 3",
   "language": "python",
   "name": "python3"
  },
  "language_info": {
   "codemirror_mode": {
    "name": "ipython",
    "version": 3
   },
   "file_extension": ".py",
   "mimetype": "text/x-python",
   "name": "python",
   "nbconvert_exporter": "python",
   "pygments_lexer": "ipython3",
   "version": "3.8.8"
  }
 },
 "nbformat": 4,
 "nbformat_minor": 5
}
