{
 "cells": [
  {
   "cell_type": "markdown",
   "id": "a7bb905e",
   "metadata": {},
   "source": [
    "# 1. Write a Python Program to Find the Factorial of a Number?"
   ]
  },
  {
   "cell_type": "code",
   "execution_count": 19,
   "id": "d2f54f42",
   "metadata": {},
   "outputs": [
    {
     "name": "stdout",
     "output_type": "stream",
     "text": [
      "Type a positive integer of which you want to find out the factorial : 10\n",
      "3628800\n"
     ]
    }
   ],
   "source": [
    "try :\n",
    "    n = int(input(\"Type a positive integer of which you want to find out the factorial : \"))\n",
    "    a = n\n",
    "    while n > 1 :\n",
    "        a = a*(n-1)\n",
    "        n = n-1\n",
    "    print(a)    \n",
    "except Exception as e :\n",
    "    print(\"please enter positive integer only. \", e)"
   ]
  },
  {
   "cell_type": "markdown",
   "id": "84d3c8b7",
   "metadata": {},
   "source": [
    "# 2. Write a Python Program to Display the multiplication Table?"
   ]
  },
  {
   "cell_type": "code",
   "execution_count": 24,
   "id": "c0a02d57",
   "metadata": {},
   "outputs": [
    {
     "name": "stdout",
     "output_type": "stream",
     "text": [
      "type a number of which you want the table : 6\n",
      "6\n",
      "12\n",
      "18\n",
      "24\n",
      "30\n",
      "36\n",
      "42\n",
      "48\n",
      "54\n",
      "60\n"
     ]
    }
   ],
   "source": [
    "try :\n",
    "    n = int(input(\"type a number of which you want the table : \"))\n",
    "    a = 1\n",
    "    while a < 11 :\n",
    "        b = n * a\n",
    "        a += 1\n",
    "        print(b)\n",
    "except Exception as e :\n",
    "    print(\"please enter integer only. \", e)        "
   ]
  },
  {
   "cell_type": "markdown",
   "id": "511c3c99",
   "metadata": {},
   "source": [
    "# 3. Write a Python Program to Print the Fibonacci sequence?"
   ]
  },
  {
   "cell_type": "code",
   "execution_count": 41,
   "id": "9bfff079",
   "metadata": {},
   "outputs": [
    {
     "name": "stdout",
     "output_type": "stream",
     "text": [
      "upto how many terms you want the fibonacci sequence : 8\n",
      "0\n",
      "1\n",
      "1\n",
      "2\n",
      "3\n",
      "5\n",
      "8\n",
      "13\n"
     ]
    }
   ],
   "source": [
    "try :\n",
    "    n = int(input(\"upto how many terms you want the fibonacci sequence : \"))\n",
    "    a1=0\n",
    "    a2=1\n",
    "    for i in range(n):\n",
    "        print(a1)\n",
    "        b = a1 + a2\n",
    "        a1 = a2\n",
    "        a2 = b\n",
    "except Exception as e :\n",
    "    print(\"please enter positive integer only. \", e)        "
   ]
  },
  {
   "cell_type": "markdown",
   "id": "cc8021c5",
   "metadata": {},
   "source": [
    "# 4. Write a Python Program to Check Armstrong Number?"
   ]
  },
  {
   "cell_type": "code",
   "execution_count": 85,
   "id": "0600589f",
   "metadata": {},
   "outputs": [
    {
     "name": "stdout",
     "output_type": "stream",
     "text": [
      "give a number to check whether it is Armstrong no. or not :  1634\n",
      "given no. is Armstrong no..\n"
     ]
    }
   ],
   "source": [
    "try :\n",
    "    n = int(input(\"give a number to check whether it is Armstrong no. or not :  \"))\n",
    "    a = str(n)\n",
    "    c = len(a)\n",
    "    d1 = 0\n",
    "    d = 0\n",
    "    for i in a :\n",
    "        d1 = int(i)**c\n",
    "        d += d1  \n",
    "    if n == d :\n",
    "        print(\"given no. is a Armstrong no..\")    \n",
    "    else :\n",
    "        print(\"given no. is not a Armstrong no..\")\n",
    "except Exception as e : \n",
    "    print(\"please enter a valid integer only. \", e)\n",
    "    "
   ]
  },
  {
   "cell_type": "markdown",
   "id": "ac384a2a",
   "metadata": {},
   "source": [
    "# 5. Write a Python Program to Find Armstrong Number in an Interval?"
   ]
  },
  {
   "cell_type": "code",
   "execution_count": 86,
   "id": "935e07b1",
   "metadata": {},
   "outputs": [
    {
     "name": "stdout",
     "output_type": "stream",
     "text": [
      "Armstrong no. from 0 to  :  153\n",
      "0\n",
      "1\n",
      "2\n",
      "3\n",
      "4\n",
      "5\n",
      "6\n",
      "7\n",
      "8\n",
      "9\n",
      "153\n"
     ]
    }
   ],
   "source": [
    "try :\n",
    "    x = int(input(\"Armstrong no. from 0 to  :  \"))\n",
    "    for i in range(x+1) :\n",
    "        a = str(i)\n",
    "        c = len(a)\n",
    "        d1 = 0\n",
    "        d = 0\n",
    "        for j in a :\n",
    "            d1 = int(j)**c\n",
    "            d += d1  \n",
    "        if d == i :\n",
    "            print(i)\n",
    "except Exception as e : \n",
    "    print(\"please enter a valid integer only. \", e)            \n",
    "    "
   ]
  },
  {
   "cell_type": "markdown",
   "id": "a181cd25",
   "metadata": {},
   "source": [
    "# 6. Write a Python Program to Find the Sum of Natural Numbers?"
   ]
  },
  {
   "cell_type": "code",
   "execution_count": 89,
   "id": "f2004e27",
   "metadata": {},
   "outputs": [
    {
     "name": "stdout",
     "output_type": "stream",
     "text": [
      "upto which no. you want to find the sum of the natural no. : 10\n",
      "55.0\n"
     ]
    }
   ],
   "source": [
    "try :\n",
    "    a = int(input(\"upto which no. you want to find the sum of the natural no. : \"))\n",
    "    b = a*(a+1)/2\n",
    "    print(b)\n",
    "except Exception as e : \n",
    "    print(\"please enter a valid integer only. \", e)      "
   ]
  },
  {
   "cell_type": "code",
   "execution_count": 90,
   "id": "5ba078b4",
   "metadata": {},
   "outputs": [
    {
     "name": "stdout",
     "output_type": "stream",
     "text": [
      "from where you want to find the sum of natural no. : 9\n",
      "upto which no. you want to find the sum : 11\n",
      "30.0\n"
     ]
    }
   ],
   "source": [
    "try :\n",
    "    a = int(input(\"from where you want to find the sum of natural no. : \"))\n",
    "    b = int(input(\"upto which no. you want to find the sum : \"))\n",
    "    c = (a-1)*(a)/2\n",
    "    d = b*(b+1)/2\n",
    "    print(d-c)\n",
    "except Exception as e : \n",
    "    print(\"please enter a valid integer only. \", e)      "
   ]
  },
  {
   "cell_type": "code",
   "execution_count": null,
   "id": "9ee9a6a2",
   "metadata": {},
   "outputs": [],
   "source": []
  }
 ],
 "metadata": {
  "kernelspec": {
   "display_name": "Python 3",
   "language": "python",
   "name": "python3"
  },
  "language_info": {
   "codemirror_mode": {
    "name": "ipython",
    "version": 3
   },
   "file_extension": ".py",
   "mimetype": "text/x-python",
   "name": "python",
   "nbconvert_exporter": "python",
   "pygments_lexer": "ipython3",
   "version": "3.8.8"
  }
 },
 "nbformat": 4,
 "nbformat_minor": 5
}
