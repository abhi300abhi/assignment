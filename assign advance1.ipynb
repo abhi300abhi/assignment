{
 "cells": [
  {
   "cell_type": "markdown",
   "id": "195c1acb",
   "metadata": {},
   "source": [
    "# What is the purpose of Python's OOP?"
   ]
  },
  {
   "cell_type": "markdown",
   "id": "4d2198bf",
   "metadata": {},
   "source": [
    "# Ans\n",
    "In Python, object-oriented Programming (OOPs) is a programming paradigm that uses objects and classes in programming. It aims to implement real-world entities like inheritance, polymorphisms, encapsulation, etc. in the programming. The main concept of OOPs is to bind the data and the functions that work on that together as a single unit so that no other part of the code can access this data."
   ]
  },
  {
   "cell_type": "markdown",
   "id": "33969cc5",
   "metadata": {},
   "source": [
    "# Where does an inheritance search look for an attribute?"
   ]
  },
  {
   "cell_type": "markdown",
   "id": "53adbc5a",
   "metadata": {},
   "source": [
    "# Ans\n",
    "An inheritance search looks for an attribute first in the instance object, then in the class the instance was created from, then in all higher superclasses, progressing from left to right (by default). The search stops at the first place the attribute is found."
   ]
  },
  {
   "cell_type": "markdown",
   "id": "a79eaf70",
   "metadata": {},
   "source": [
    "# How do you distinguish between a class object and an instance object?"
   ]
  },
  {
   "cell_type": "markdown",
   "id": "cad61ab6",
   "metadata": {},
   "source": [
    "# Ans\n",
    "Classes are a kind of factory for creating multiple instances. Classes also support operator overloading methods, which instances inherit, and treat any functions nested in the class as methods for processing instances."
   ]
  },
  {
   "cell_type": "markdown",
   "id": "6f4ac739",
   "metadata": {},
   "source": [
    "# What makes the first argument in a class’s method function special?"
   ]
  },
  {
   "cell_type": "markdown",
   "id": "be1ab9b1",
   "metadata": {},
   "source": [
    "# Ans\n",
    "It always receives the instance object that is the implied subject of the method call. It’s usually called 'self' by convention."
   ]
  },
  {
   "cell_type": "markdown",
   "id": "7fee8cc3",
   "metadata": {},
   "source": [
    "# What is the purpose of the __init__ method?"
   ]
  },
  {
   "cell_type": "markdown",
   "id": "0009acfd",
   "metadata": {},
   "source": [
    "# Ans\n",
    "If the __init__ method is coded or inherited in a class, Python calls it automatically each time an instance of that class is created."
   ]
  },
  {
   "cell_type": "markdown",
   "id": "a60eff89",
   "metadata": {},
   "source": [
    "# What is the process for creating a class instance?"
   ]
  },
  {
   "cell_type": "markdown",
   "id": "2fdb1ed0",
   "metadata": {},
   "source": [
    "# Ans\n",
    "You create a class instance by calling the class name as though it were a function; any arguments passed into the class name show up as arguments two and beyond in the __init__ constructor method.\n"
   ]
  },
  {
   "cell_type": "markdown",
   "id": "b859daf9",
   "metadata": {},
   "source": [
    "# What is the process for creating a class?"
   ]
  },
  {
   "cell_type": "markdown",
   "id": "7472be51",
   "metadata": {},
   "source": [
    "# Ans\n",
    "class ClassName():\n",
    "\n",
    "#some code here"
   ]
  },
  {
   "cell_type": "markdown",
   "id": "d5326281",
   "metadata": {},
   "source": [
    "# How would you define the superclasses of a class?"
   ]
  },
  {
   "cell_type": "markdown",
   "id": "5f50b477",
   "metadata": {},
   "source": [
    "# Ans\n",
    "A superclass is the class from which many subclasses can be created. The subclasses inherit the characteristics of a superclass. The superclass is also known as the parent class or base class. for example, Vehicle is the Superclass and its subclasses may be Car, Truck and Motorcycle."
   ]
  },
  {
   "cell_type": "code",
   "execution_count": null,
   "id": "5b8af794",
   "metadata": {},
   "outputs": [],
   "source": []
  }
 ],
 "metadata": {
  "kernelspec": {
   "display_name": "Python 3",
   "language": "python",
   "name": "python3"
  },
  "language_info": {
   "codemirror_mode": {
    "name": "ipython",
    "version": 3
   },
   "file_extension": ".py",
   "mimetype": "text/x-python",
   "name": "python",
   "nbconvert_exporter": "python",
   "pygments_lexer": "ipython3",
   "version": "3.8.8"
  }
 },
 "nbformat": 4,
 "nbformat_minor": 5
}
