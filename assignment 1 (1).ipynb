{
 "cells": [
  {
   "cell_type": "markdown",
   "id": "4ec10ed5",
   "metadata": {},
   "source": [
    "# 1. In the below elements which of them are values or an expression? eg:- values can be integer or string and expressions will be mathematical operators.\n",
    "*,\n",
    "\"hello\",\n",
    "-87.8,\n",
    "-,\n",
    "/,\n",
    "+,\n",
    "6"
   ]
  },
  {
   "cell_type": "markdown",
   "id": "99ca7d86",
   "metadata": {},
   "source": [
    "# Ans\n",
    "values : \"hello\", -87.8, 6\n",
    "\n",
    "expressions : *, -, +, /\n"
   ]
  },
  {
   "cell_type": "markdown",
   "id": "7b052b1f",
   "metadata": {},
   "source": [
    "# 2. What is the difference between string and variable?"
   ]
  },
  {
   "cell_type": "markdown",
   "id": "ab00910c",
   "metadata": {},
   "source": [
    "# Ans\n",
    "Variable : Variable are the symbols that we use to store different type of data. And variable can change there value any where in the program if we want.\n",
    "\n",
    "String : Strings are a type of data that we store in the variable. Any text that comes in double quotes or single quote(\" \" or ' ') becomes string in python."
   ]
  },
  {
   "cell_type": "markdown",
   "id": "d5e702c6",
   "metadata": {},
   "source": [
    "# 3. Describe three different data types."
   ]
  },
  {
   "cell_type": "markdown",
   "id": "bfb6ec64",
   "metadata": {},
   "source": [
    "# Ans\n",
    "Integers : This value is represented by int class. It contains positive and negative whaole no.(without fraction and decimal). In python there is no limit to how long an integer can be.\n",
    "\n",
    "Float : This value is represented by float class.It is a real no. with floating point representation. It is specified by a point.\n",
    "\n",
    "Boolean : Data type with one of the two built-in values ,True or False.It is denoted by the bool class. True is equated to 1 and False is equated to 0."
   ]
  },
  {
   "cell_type": "markdown",
   "id": "e2b5db09",
   "metadata": {},
   "source": [
    "# 4. What is an expression made up of? What do all expressions do?"
   ]
  },
  {
   "cell_type": "markdown",
   "id": "4656d701",
   "metadata": {},
   "source": [
    "# Ans\n",
    "An expression is a combination of operators and operands that is interpreted to produce some other value.\n",
    "In any programming language, an expression os evaluated as per the precedence of its operators .So that if there is more than one operator ini an expression, their precedence decides which operation will be performed first.\n",
    "\n",
    "example : +, _, /, *, **, True, False, <, > etc."
   ]
  },
  {
   "cell_type": "markdown",
   "id": "90ebfc72",
   "metadata": {},
   "source": [
    "# 5. This assignment statements, like spam = 10. What is the difference between an expression and a statement?"
   ]
  },
  {
   "cell_type": "markdown",
   "id": "9de77dde",
   "metadata": {},
   "source": [
    "# Ans\n",
    "There is a thumb rule , if you can print it or assign it to a variable, it's an expression. If you can't it's a statement.\n",
    "for example : 2+2 , 2/2, 48*4, max(22,54),\"abhi\", True ,4.0 etc. all are expressions.\n",
    "\n",
    "if condition, else condition , while :, for: etc. all statements these can not be assigned to a variable or printed."
   ]
  },
  {
   "cell_type": "markdown",
   "id": "6810c1fb",
   "metadata": {},
   "source": [
    "# 6. After running the following code, what does the variable bacon contain?\n",
    "bacon = 22\n",
    "\n",
    "bacon + 1"
   ]
  },
  {
   "cell_type": "markdown",
   "id": "c66cb80e",
   "metadata": {},
   "source": [
    "# Ans\n",
    "23"
   ]
  },
  {
   "cell_type": "markdown",
   "id": "24c6cc66",
   "metadata": {},
   "source": [
    "# 7. What should the values of the following two terms be?\n",
    "'spam' + 'spamspam'\n",
    "\n",
    "'spam'*3"
   ]
  },
  {
   "cell_type": "markdown",
   "id": "c2d1f151",
   "metadata": {},
   "source": [
    "# Ans\n",
    "'spamspamspam'\n",
    "\n",
    "'spamspamspam'"
   ]
  },
  {
   "cell_type": "markdown",
   "id": "837b7993",
   "metadata": {},
   "source": [
    "# 8. Why is eggs a valid variable name while 100 is invalid?"
   ]
  },
  {
   "cell_type": "markdown",
   "id": "013dfe1d",
   "metadata": {},
   "source": [
    "# Ans\n",
    "Because variable names cannot begin with a number."
   ]
  },
  {
   "cell_type": "markdown",
   "id": "bf37becd",
   "metadata": {},
   "source": [
    "# 9. What three functions can be used to get the integer, floating-point number, or string version of a value?"
   ]
  },
  {
   "cell_type": "markdown",
   "id": "6f134259",
   "metadata": {},
   "source": [
    "# Ans\n",
    "integer; int()\n",
    "\n",
    "floating-point number ; float()\n",
    "\n",
    "string ; str()"
   ]
  },
  {
   "cell_type": "markdown",
   "id": "5ecb87d4",
   "metadata": {},
   "source": [
    "# 10. Why does this expression cause an error? How can you fix it? \n",
    "'I have eaten' + 99 + 'burritos.'"
   ]
  },
  {
   "cell_type": "markdown",
   "id": "0432059e",
   "metadata": {},
   "source": [
    "# Ans\n",
    "This expression causes an error because \"I have eaten\" and \"burritos\" are strings but 99 is an integer so these cannot be \n",
    "cannot be concatenated. For fixing this 99 should be changed to string as well (as \"99\")."
   ]
  }
 ],
 "metadata": {
  "kernelspec": {
   "display_name": "Python 3",
   "language": "python",
   "name": "python3"
  },
  "language_info": {
   "codemirror_mode": {
    "name": "ipython",
    "version": 3
   },
   "file_extension": ".py",
   "mimetype": "text/x-python",
   "name": "python",
   "nbconvert_exporter": "python",
   "pygments_lexer": "ipython3",
   "version": "3.8.8"
  }
 },
 "nbformat": 4,
 "nbformat_minor": 5
}
