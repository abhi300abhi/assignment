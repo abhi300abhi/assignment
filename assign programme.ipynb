{
 "cells": [
  {
   "cell_type": "markdown",
   "id": "67501359",
   "metadata": {},
   "source": [
    "# 1. Write a Python Program to Display Fibonacci Sequence Using Recursion?"
   ]
  },
  {
   "cell_type": "code",
   "execution_count": 41,
   "id": "8f906616",
   "metadata": {},
   "outputs": [
    {
     "name": "stdout",
     "output_type": "stream",
     "text": [
      "how many terms you want in the series : -4\n",
      "please enter a valid positive no. only.\n"
     ]
    }
   ],
   "source": [
    "def recur_feb(n):\n",
    "    if n<=1:\n",
    "        return n\n",
    "    else :\n",
    "        return recur_feb(n-1)+recur_feb(n-2)\n",
    "try:    \n",
    "    j = int(input(\"how many terms you want in the series : \"))\n",
    "    if j < 0 :\n",
    "        print(\"please enter a valid positive no. only.\")\n",
    "    else :\n",
    "        for i in range(j):\n",
    "            print(recur_feb(i))\n",
    "except ValueError as e :\n",
    "    print(\"please enter only a positive no.\", e)            "
   ]
  },
  {
   "cell_type": "markdown",
   "id": "9dc18dce",
   "metadata": {},
   "source": [
    "# 2. Write a Python Program to Find Factorial of Number Using Recursion?"
   ]
  },
  {
   "cell_type": "code",
   "execution_count": 39,
   "id": "9ac271fc",
   "metadata": {},
   "outputs": [
    {
     "name": "stdout",
     "output_type": "stream",
     "text": [
      "of which no. you want to find the factorial : 5\n",
      "120\n"
     ]
    }
   ],
   "source": [
    "def fact(n):\n",
    "    if n==0 :\n",
    "        return 1\n",
    "    else :\n",
    "        return n*fact(n-1)\n",
    "try :    \n",
    "    i = int(input(\"of which no. you want to find the factorial : \")) \n",
    "    if n < 0 :\n",
    "        print(\"please enter a valid no. \")\n",
    "    else :\n",
    "        print(fact(i))\n",
    "except ValueError as e :\n",
    "    print(\"please enter only a positive no.\", e)"
   ]
  },
  {
   "cell_type": "markdown",
   "id": "c6e7ee60",
   "metadata": {},
   "source": [
    "# 3. Write a Python Program to calculate your Body Mass Index?"
   ]
  },
  {
   "cell_type": "code",
   "execution_count": 46,
   "id": "54a36c97",
   "metadata": {},
   "outputs": [
    {
     "name": "stdout",
     "output_type": "stream",
     "text": [
      "enter weight in kg : rdfg\n",
      "please enter valid weight and height only could not convert string to float: 'rdfg'\n"
     ]
    }
   ],
   "source": [
    "try:\n",
    "    w = float(input(\"enter weight in kg : \"))\n",
    "    h = float(input(\"enter height in meters : \"))\n",
    "    bmi = w/(h**2) \n",
    "    print(bmi)\n",
    "    if bmi<=18.5:\n",
    "        print(\"you are underweight and need to increse your diet \")\n",
    "    elif 18.5<bmi<=24.9:\n",
    "        print(\"your weight is under healthy category , you should maintain your diet\")\n",
    "    elif 24.9<bmi<=29.9:\n",
    "        print(\"you are overweight and you have to reduce your calorie intake and also start exercing\")\n",
    "    else :\n",
    "        print(\"you are obese please consult a doctor\")\n",
    "except ValueError as e :\n",
    "    print(\"please enter valid weight and height only\", e)        "
   ]
  },
  {
   "cell_type": "markdown",
   "id": "2789fc72",
   "metadata": {},
   "source": [
    "# 4. Write a Python Program to calculate the natural logarithm of any number?"
   ]
  },
  {
   "cell_type": "code",
   "execution_count": 52,
   "id": "9c7ed61b",
   "metadata": {},
   "outputs": [
    {
     "name": "stdout",
     "output_type": "stream",
     "text": [
      "enter a no. of which you want to find the natural logarithm : efgd\n",
      "please enter valid no. only could not convert string to float: 'efgd'\n"
     ]
    }
   ],
   "source": [
    "try:\n",
    "    import math\n",
    "    i = float(input(\"enter a no. of which you want to find the natural logarithm : \"))\n",
    "    print(math.log(i))\n",
    "except ValueError as e :\n",
    "    print(\"please enter valid no. only\", e)        "
   ]
  },
  {
   "cell_type": "markdown",
   "id": "8fc1622d",
   "metadata": {},
   "source": [
    "# 5. Write a Python Program for cube sum of first n natural numbers?"
   ]
  },
  {
   "cell_type": "code",
   "execution_count": 55,
   "id": "736b5a18",
   "metadata": {},
   "outputs": [
    {
     "name": "stdout",
     "output_type": "stream",
     "text": [
      "enter a no. upto which you want to find the sum of cube of natural no. : 32\n",
      "278784.0\n"
     ]
    }
   ],
   "source": [
    "try:\n",
    "    i = int(input(\"enter a no. upto which you want to find the sum of cube of natural no. : \"))\n",
    "    cube_sum = (i*(i+1)/2)**2\n",
    "    print(cube_sum)\n",
    "except ValueError as e :\n",
    "    print(\"please enter valid no. only\", e)            "
   ]
  },
  {
   "cell_type": "code",
   "execution_count": null,
   "id": "e375b5a0",
   "metadata": {},
   "outputs": [],
   "source": []
  }
 ],
 "metadata": {
  "kernelspec": {
   "display_name": "Python 3",
   "language": "python",
   "name": "python3"
  },
  "language_info": {
   "codemirror_mode": {
    "name": "ipython",
    "version": 3
   },
   "file_extension": ".py",
   "mimetype": "text/x-python",
   "name": "python",
   "nbconvert_exporter": "python",
   "pygments_lexer": "ipython3",
   "version": "3.8.8"
  }
 },
 "nbformat": 4,
 "nbformat_minor": 5
}
