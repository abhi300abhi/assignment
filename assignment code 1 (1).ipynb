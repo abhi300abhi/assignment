{
 "cells": [
  {
   "cell_type": "markdown",
   "id": "327ecc2b",
   "metadata": {},
   "source": [
    "# 1. Write a Python program to print \"Hello Python\"?"
   ]
  },
  {
   "cell_type": "code",
   "execution_count": 1,
   "id": "a4388a24",
   "metadata": {},
   "outputs": [
    {
     "data": {
      "text/plain": [
       "'Hello Python'"
      ]
     },
     "execution_count": 1,
     "metadata": {},
     "output_type": "execute_result"
    }
   ],
   "source": [
    "\"Hello Python\""
   ]
  },
  {
   "cell_type": "markdown",
   "id": "6a204967",
   "metadata": {},
   "source": [
    "# 2. Write a Python program to do arithmetical operations addition and division.?"
   ]
  },
  {
   "cell_type": "code",
   "execution_count": 11,
   "id": "d83998ba",
   "metadata": {},
   "outputs": [
    {
     "name": "stdout",
     "output_type": "stream",
     "text": [
      "first number: 4\n"
     ]
    }
   ],
   "source": [
    "a = int(input(\"first number: \"))"
   ]
  },
  {
   "cell_type": "code",
   "execution_count": 12,
   "id": "0a6557e6",
   "metadata": {},
   "outputs": [
    {
     "name": "stdout",
     "output_type": "stream",
     "text": [
      "second number: 6\n"
     ]
    }
   ],
   "source": [
    "b = int(input(\"second number: \"))"
   ]
  },
  {
   "cell_type": "code",
   "execution_count": 13,
   "id": "14aca699",
   "metadata": {},
   "outputs": [],
   "source": [
    "c = str(a + b) "
   ]
  },
  {
   "cell_type": "code",
   "execution_count": 14,
   "id": "810cf6d3",
   "metadata": {},
   "outputs": [
    {
     "data": {
      "text/plain": [
       "'sum is 10'"
      ]
     },
     "execution_count": 14,
     "metadata": {},
     "output_type": "execute_result"
    }
   ],
   "source": [
    "\"sum is \" + c  "
   ]
  },
  {
   "cell_type": "code",
   "execution_count": 16,
   "id": "01d01929",
   "metadata": {},
   "outputs": [],
   "source": [
    "d = str(a / b)"
   ]
  },
  {
   "cell_type": "code",
   "execution_count": 17,
   "id": "699c4305",
   "metadata": {},
   "outputs": [
    {
     "data": {
      "text/plain": [
       "'division is 0.6666666666666666'"
      ]
     },
     "execution_count": 17,
     "metadata": {},
     "output_type": "execute_result"
    }
   ],
   "source": [
    "\"division is \" + d"
   ]
  },
  {
   "cell_type": "markdown",
   "id": "3c019396",
   "metadata": {},
   "source": [
    "# 3. Write a Python program to find the area of a triangle?"
   ]
  },
  {
   "cell_type": "code",
   "execution_count": 70,
   "id": "e897dd85",
   "metadata": {},
   "outputs": [
    {
     "name": "stdout",
     "output_type": "stream",
     "text": [
      "side a = 67\n"
     ]
    }
   ],
   "source": [
    "a = float(input(\"side a = \"))"
   ]
  },
  {
   "cell_type": "code",
   "execution_count": 71,
   "id": "fd13e84f",
   "metadata": {},
   "outputs": [
    {
     "name": "stdout",
     "output_type": "stream",
     "text": [
      "side b = 67\n"
     ]
    }
   ],
   "source": [
    "b = float(input(\"side b = \"))"
   ]
  },
  {
   "cell_type": "code",
   "execution_count": 72,
   "id": "e8782162",
   "metadata": {},
   "outputs": [
    {
     "name": "stdout",
     "output_type": "stream",
     "text": [
      "side c = 88888\n"
     ]
    }
   ],
   "source": [
    "c = float(input(\"side c = \"))"
   ]
  },
  {
   "cell_type": "code",
   "execution_count": 73,
   "id": "d7080fc8",
   "metadata": {},
   "outputs": [],
   "source": [
    "s = (a + b + c)/2"
   ]
  },
  {
   "cell_type": "code",
   "execution_count": 74,
   "id": "327f34ea",
   "metadata": {},
   "outputs": [],
   "source": [
    "area = (s*(s-a)*(s-b)*(s-c))**0.5"
   ]
  },
  {
   "cell_type": "code",
   "execution_count": 75,
   "id": "edcd7f24",
   "metadata": {},
   "outputs": [],
   "source": [
    "d = type(area)"
   ]
  },
  {
   "cell_type": "code",
   "execution_count": 78,
   "id": "bc12852b",
   "metadata": {},
   "outputs": [
    {
     "name": "stdout",
     "output_type": "stream",
     "text": [
      "This triangle is not possible.\n"
     ]
    }
   ],
   "source": [
    "if d == complex :\n",
    "    print(\"This triangle is not possible.\")\n",
    "else:\n",
    "    print(\"area is \" + str(area))"
   ]
  },
  {
   "cell_type": "markdown",
   "id": "4048015f",
   "metadata": {},
   "source": [
    "# 4. Write a Python program to swap two variables?"
   ]
  },
  {
   "cell_type": "code",
   "execution_count": 90,
   "id": "a731ba2f",
   "metadata": {},
   "outputs": [
    {
     "name": "stdout",
     "output_type": "stream",
     "text": [
      "FIRST NO. :56\n"
     ]
    }
   ],
   "source": [
    "a = input(\"FIRST NO. :\")"
   ]
  },
  {
   "cell_type": "code",
   "execution_count": 91,
   "id": "50429b9f",
   "metadata": {},
   "outputs": [
    {
     "name": "stdout",
     "output_type": "stream",
     "text": [
      "SECOND NO. :89\n"
     ]
    }
   ],
   "source": [
    "b = input(\"SECOND NO. :\")"
   ]
  },
  {
   "cell_type": "code",
   "execution_count": 94,
   "id": "0acdbfac",
   "metadata": {},
   "outputs": [],
   "source": [
    "t = a"
   ]
  },
  {
   "cell_type": "code",
   "execution_count": 95,
   "id": "5a6610c6",
   "metadata": {},
   "outputs": [],
   "source": [
    "a = b"
   ]
  },
  {
   "cell_type": "code",
   "execution_count": 96,
   "id": "9f37eaf7",
   "metadata": {},
   "outputs": [],
   "source": [
    "b = t"
   ]
  },
  {
   "cell_type": "code",
   "execution_count": 122,
   "id": "583d1559",
   "metadata": {},
   "outputs": [
    {
     "data": {
      "text/plain": [
       "'FIRST NO. after swaping is : 89'"
      ]
     },
     "execution_count": 122,
     "metadata": {},
     "output_type": "execute_result"
    }
   ],
   "source": [
    "f\"FIRST NO. after swaping is : \" + a"
   ]
  },
  {
   "cell_type": "code",
   "execution_count": 123,
   "id": "7572d75b",
   "metadata": {},
   "outputs": [
    {
     "data": {
      "text/plain": [
       "'SECOND NO. after swaping is : 56'"
      ]
     },
     "execution_count": 123,
     "metadata": {},
     "output_type": "execute_result"
    }
   ],
   "source": [
    "f\"SECOND NO. after swaping is : \" + b"
   ]
  },
  {
   "cell_type": "markdown",
   "id": "08593088",
   "metadata": {},
   "source": [
    "# 5. Write a Python program to generate a random number?"
   ]
  },
  {
   "cell_type": "code",
   "execution_count": 106,
   "id": "66aed58d",
   "metadata": {},
   "outputs": [],
   "source": [
    "import random "
   ]
  },
  {
   "cell_type": "code",
   "execution_count": 121,
   "id": "5555a6f3",
   "metadata": {},
   "outputs": [
    {
     "data": {
      "text/plain": [
       "18"
      ]
     },
     "execution_count": 121,
     "metadata": {},
     "output_type": "execute_result"
    }
   ],
   "source": [
    "random.randint(0,100)"
   ]
  },
  {
   "cell_type": "code",
   "execution_count": null,
   "id": "b8b9a97c",
   "metadata": {},
   "outputs": [],
   "source": []
  }
 ],
 "metadata": {
  "kernelspec": {
   "display_name": "Python 3",
   "language": "python",
   "name": "python3"
  },
  "language_info": {
   "codemirror_mode": {
    "name": "ipython",
    "version": 3
   },
   "file_extension": ".py",
   "mimetype": "text/x-python",
   "name": "python",
   "nbconvert_exporter": "python",
   "pygments_lexer": "ipython3",
   "version": "3.8.8"
  }
 },
 "nbformat": 4,
 "nbformat_minor": 5
}
