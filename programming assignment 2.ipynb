{
 "cells": [
  {
   "cell_type": "markdown",
   "id": "e4bda16c",
   "metadata": {},
   "source": [
    "# 1. Write a Python program to convert kilometers to miles?"
   ]
  },
  {
   "cell_type": "code",
   "execution_count": 2,
   "id": "cc4af97d",
   "metadata": {},
   "outputs": [
    {
     "name": "stdout",
     "output_type": "stream",
     "text": [
      "distance in kilometers : 12\n",
      "distance in miles is :  7.452\n"
     ]
    }
   ],
   "source": [
    "a = input (\"distance in kilometers : \")\n",
    "b = float(a) * 0.621\n",
    "print(\"distance in miles is : \", b)"
   ]
  },
  {
   "cell_type": "markdown",
   "id": "502951df",
   "metadata": {},
   "source": [
    "# 2. Write a Python program to convert Celsius to Fahrenheit?"
   ]
  },
  {
   "cell_type": "code",
   "execution_count": 4,
   "id": "242a6f5f",
   "metadata": {},
   "outputs": [
    {
     "name": "stdout",
     "output_type": "stream",
     "text": [
      "tempreture in degree celsius : 100\n",
      "tempreture in degree fahrenheit :  212.0\n"
     ]
    }
   ],
   "source": [
    "a = input(\"tempreture in degree celsius : \")\n",
    "b = float(a) * (9/5) + 32\n",
    "print(\"tempreture in degree fahrenheit : \", b)"
   ]
  },
  {
   "cell_type": "markdown",
   "id": "85ebf05e",
   "metadata": {},
   "source": [
    "# 3. Write a Python program to display calendar?"
   ]
  },
  {
   "cell_type": "code",
   "execution_count": 7,
   "id": "97be1925",
   "metadata": {},
   "outputs": [
    {
     "name": "stdout",
     "output_type": "stream",
     "text": [
      "year : 2022\n",
      "month : 9\n",
      "   September 2022\n",
      "Mo Tu We Th Fr Sa Su\n",
      "          1  2  3  4\n",
      " 5  6  7  8  9 10 11\n",
      "12 13 14 15 16 17 18\n",
      "19 20 21 22 23 24 25\n",
      "26 27 28 29 30\n",
      "\n"
     ]
    }
   ],
   "source": [
    "import calendar\n",
    "year = int(input(\"year : \"))\n",
    "month = int(input(\"month : \"))\n",
    "print(calendar.month(year,month))\n"
   ]
  },
  {
   "cell_type": "markdown",
   "id": "99c93b7c",
   "metadata": {},
   "source": [
    "# 4. Write a Python program to solve quadratic equation?"
   ]
  },
  {
   "cell_type": "code",
   "execution_count": 12,
   "id": "ba662d35",
   "metadata": {},
   "outputs": [
    {
     "name": "stdout",
     "output_type": "stream",
     "text": [
      "Quadratic equation should be in the form : ax^2 + bx + c = 0\n",
      "value of a = 1\n",
      "value of b = 3\n",
      "value of c = 6.25\n",
      "this quadratic equation does not have real roots\n",
      "imagenary solutions are:  3.0 + 2.0 j\n",
      "                       :  3.0 - 2.0 j\n"
     ]
    }
   ],
   "source": [
    "print(\"Quadratic equation should be in the form : ax^2 + bx + c = 0\")\n",
    "a = float(input(\"value of a = \"))\n",
    "b = float(input(\"value of b = \"))\n",
    "c = float(input(\"value of c = \"))\n",
    "if b**2 - 4*a*c > 0 : \n",
    "    x1 = (b + (b**2 - 4*a*c)**0.5)/(2*a)\n",
    "    x2 = (b - (b**2 - 4*a*c)**0.5)/(2*a)\n",
    "    print(\"solution of this quadratic equation are :\", x1, x2)\n",
    "else :\n",
    "    print(\"this quadratic equation does not have real roots\")\n",
    "    x1 = ((4*a*c - b**2)**0.5)/(2*a)\n",
    "    print(\"imagenary solutions are: \", b, \"+\", x1,\"j\")\n",
    "    print(\"                       : \", b, \"-\", x1,\"j\")\n",
    "#print(x1)\n",
    "#print(x2)"
   ]
  },
  {
   "cell_type": "markdown",
   "id": "7f10c8ce",
   "metadata": {},
   "source": [
    "# 5. Write a Python program to swap two variables without temp variable?"
   ]
  },
  {
   "cell_type": "code",
   "execution_count": 17,
   "id": "dbe18d3e",
   "metadata": {},
   "outputs": [
    {
     "name": "stdout",
     "output_type": "stream",
     "text": [
      "write a no. a =  3\n",
      "write other no. b = 5\n",
      "after swaping a =  5.0\n",
      "after swaping b =  3.0\n"
     ]
    }
   ],
   "source": [
    "a = float(input(\"write a no. a =  \"))\n",
    "b = float(input(\"write other no. b = \"))\n",
    "a = a + b\n",
    "\n",
    "b = a - b\n",
    "\n",
    "a = a - b\n",
    "\n",
    "print(\"after swaping a = \", a)\n",
    "print(\"after swaping b = \", b)\n"
   ]
  },
  {
   "cell_type": "code",
   "execution_count": null,
   "id": "a9cc9098",
   "metadata": {},
   "outputs": [],
   "source": []
  }
 ],
 "metadata": {
  "kernelspec": {
   "display_name": "Python 3",
   "language": "python",
   "name": "python3"
  },
  "language_info": {
   "codemirror_mode": {
    "name": "ipython",
    "version": 3
   },
   "file_extension": ".py",
   "mimetype": "text/x-python",
   "name": "python",
   "nbconvert_exporter": "python",
   "pygments_lexer": "ipython3",
   "version": "3.8.8"
  }
 },
 "nbformat": 4,
 "nbformat_minor": 5
}
