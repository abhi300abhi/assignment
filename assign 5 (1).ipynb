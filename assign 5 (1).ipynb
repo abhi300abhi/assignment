{
 "cells": [
  {
   "cell_type": "markdown",
   "id": "5fcdbc24",
   "metadata": {},
   "source": [
    "# 1. What does an empty dictionary&#39;s code look like?"
   ]
  },
  {
   "cell_type": "markdown",
   "id": "483bb6a2",
   "metadata": {},
   "source": [
    "# Ans\n",
    "Empty dictionary = {}"
   ]
  },
  {
   "cell_type": "markdown",
   "id": "df6546d0",
   "metadata": {},
   "source": [
    "# 2. What is the value of a dictionary value with the key \"foo\" and the value 42?"
   ]
  },
  {
   "cell_type": "markdown",
   "id": "aeba08eb",
   "metadata": {},
   "source": [
    "# Ans\n",
    "d = {\"foo\": 42}"
   ]
  },
  {
   "cell_type": "markdown",
   "id": "24b221fe",
   "metadata": {},
   "source": [
    "# 3. What is the most significant distinction between a dictionary and a list?"
   ]
  },
  {
   "cell_type": "markdown",
   "id": "fd730f84",
   "metadata": {},
   "source": [
    "# Ans \n",
    "The items stored in a dictionary are unordered, while the items in a list are ordered."
   ]
  },
  {
   "cell_type": "markdown",
   "id": "0de9d6ec",
   "metadata": {},
   "source": [
    "# 4. What happens if you try to access spam[\"foo\"] if spam is {\"bar\": 100}?"
   ]
  },
  {
   "cell_type": "markdown",
   "id": "d28fae2e",
   "metadata": {},
   "source": [
    "# Ans \n",
    "You will get a key error because in the dictionary there is no key named \"foo\"."
   ]
  },
  {
   "cell_type": "markdown",
   "id": "6a8c0e5c",
   "metadata": {},
   "source": [
    "# 5. If a dictionary is stored in spam, what is the difference between the expressions \"cat\" in spam and \"cat\" in spam.keys()?"
   ]
  },
  {
   "cell_type": "markdown",
   "id": "fddb9566",
   "metadata": {},
   "source": [
    "# Ans \n",
    "There is no difference. The in operator checks whether a value exists as a key in the dictionary."
   ]
  },
  {
   "cell_type": "markdown",
   "id": "89bd347d",
   "metadata": {},
   "source": [
    "# 6. If a dictionary is stored in spam, what is the difference between the expressions \"cat\" in spam and \"cat\" in spam.values()?"
   ]
  },
  {
   "cell_type": "markdown",
   "id": "eca32673",
   "metadata": {},
   "source": [
    "# Ans \n",
    "'cat' in spam checks whether there is a 'cat' key in the dictionary, while 'cat' in spam.values() checks whether there is a value 'cat' for one of the keys in spam."
   ]
  },
  {
   "cell_type": "markdown",
   "id": "c5ea5055",
   "metadata": {},
   "source": [
    "# 7. What is a shortcut for the following code?\n",
    "if \"color\" not in spam:\n",
    "\n",
    "spam[\"color\"] = \"black\""
   ]
  },
  {
   "cell_type": "markdown",
   "id": "2dee515d",
   "metadata": {},
   "source": [
    "# Ans \n",
    "spam.setdefault('color', 'black')"
   ]
  },
  {
   "cell_type": "markdown",
   "id": "4bdb9936",
   "metadata": {},
   "source": [
    "# 8. How do you \"pretty print\" dictionary values using which module and function?"
   ]
  },
  {
   "cell_type": "markdown",
   "id": "dfffb9a5",
   "metadata": {},
   "source": [
    "# Ans\n",
    "pprint is a Python module that provides the capability to pretty print Python data types to be more readable. This module also supports pretty-printing dictionary. Within the pprint module there is a function with the same name pprint() , which is the function used to pretty-print the given string or object."
   ]
  },
  {
   "cell_type": "code",
   "execution_count": null,
   "id": "a8492710",
   "metadata": {},
   "outputs": [],
   "source": []
  }
 ],
 "metadata": {
  "kernelspec": {
   "display_name": "Python 3",
   "language": "python",
   "name": "python3"
  },
  "language_info": {
   "codemirror_mode": {
    "name": "ipython",
    "version": 3
   },
   "file_extension": ".py",
   "mimetype": "text/x-python",
   "name": "python",
   "nbconvert_exporter": "python",
   "pygments_lexer": "ipython3",
   "version": "3.8.8"
  }
 },
 "nbformat": 4,
 "nbformat_minor": 5
}
