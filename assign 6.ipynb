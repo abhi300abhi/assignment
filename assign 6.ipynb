{
 "cells": [
  {
   "cell_type": "markdown",
   "id": "af47f219",
   "metadata": {},
   "source": [
    "# 1. What are escape characters, and how do you use them?"
   ]
  },
  {
   "cell_type": "markdown",
   "id": "1d37e053",
   "metadata": {},
   "source": [
    "# Ans\n",
    "To insert characters that are illegal in a string, use an escape character.\n",
    "\n",
    "An escape character is a backslash \\ followed by the character you want to insert.\n",
    "\n",
    "for ex:\n",
    "\n",
    "txt = \"We are the so-called \"Vikings\" from the north.\" \n",
    "\n",
    "This is a illegal code because of double quotes in the double quote string.\n",
    "\n",
    "txt = \"We are the so-called \\\"Vikings\\\" from the north.\" \n",
    "\n",
    "Now in this string we can use the double quotes in string because of the escape character used i.e. backslash (\\)  "
   ]
  },
  {
   "cell_type": "markdown",
   "id": "99a43ed4",
   "metadata": {},
   "source": [
    "# 2. What do the escape characters n and t stand for?"
   ]
  },
  {
   "cell_type": "markdown",
   "id": "8a568ae1",
   "metadata": {},
   "source": [
    "# Ans \n",
    "n : stands for next line.\n",
    "    \n",
    "t : stands for tab.    "
   ]
  },
  {
   "cell_type": "markdown",
   "id": "af667b20",
   "metadata": {},
   "source": [
    "# 3. What is the way to include backslash characters in a string?"
   ]
  },
  {
   "cell_type": "markdown",
   "id": "15ead80d",
   "metadata": {},
   "source": [
    "# Ans"
   ]
  },
  {
   "cell_type": "code",
   "execution_count": 28,
   "id": "79a8f32c",
   "metadata": {},
   "outputs": [
    {
     "name": "stdout",
     "output_type": "stream",
     "text": [
      "\"\\\" my name is abhishek\n"
     ]
    },
    {
     "data": {
      "text/plain": [
       "'use double backslash istead os single because single backslash is itself a \\nescape character and double backslash is the backslash character.'"
      ]
     },
     "execution_count": 28,
     "metadata": {},
     "output_type": "execute_result"
    }
   ],
   "source": [
    "print('\"\\\\\" my name is abhishek')  \n",
    "\"\"\"use double backslash istead os single because single backslash is itself a \n",
    "escape character and double backslash is the backslash character.\"\"\""
   ]
  },
  {
   "cell_type": "markdown",
   "id": "3fc19e5a",
   "metadata": {},
   "source": [
    "# 4. The string \"How|'s Moving Castle\" is a correct value. Why isn't the single quote character in the word How|'s not escaped a problem?"
   ]
  },
  {
   "cell_type": "markdown",
   "id": "792c266b",
   "metadata": {},
   "source": [
    "# Ans \n",
    "The single quote character in the word how|'s not escaped a problem because backslash (\\) is the escape character not the | sign."
   ]
  },
  {
   "cell_type": "markdown",
   "id": "5c3219b1",
   "metadata": {},
   "source": [
    "# 5. How do you write a string of newlines if you don&#39;t want to use the n character?"
   ]
  },
  {
   "cell_type": "code",
   "execution_count": 34,
   "id": "ba04256b",
   "metadata": {},
   "outputs": [
    {
     "name": "stdout",
     "output_type": "stream",
     "text": [
      "hello\n",
      "world\n",
      "hello\r\n",
      "world\n"
     ]
    }
   ],
   "source": [
    "print(\"hello\\nworld\")\n",
    "import os\n",
    "print(\"hello\" + os.linesep + \"world\") \n",
    "# Instead of \\n we can use os.linesep in os module and linesep keyword."
   ]
  },
  {
   "cell_type": "markdown",
   "id": "070921a6",
   "metadata": {},
   "source": [
    "# 6. What are the values of the given expressions?\n",
    "print('Hello, world!'[1])\n",
    "print('Hello, world!'[0:5])\n",
    "print('Hello, world!'[:5])\n",
    "print('Hello, world!'[3:])"
   ]
  },
  {
   "cell_type": "code",
   "execution_count": 37,
   "id": "ffd93c8c",
   "metadata": {},
   "outputs": [
    {
     "name": "stdout",
     "output_type": "stream",
     "text": [
      "e\n",
      "Hello\n",
      "Hello\n",
      "lo, world!\n"
     ]
    }
   ],
   "source": [
    "print('Hello, world!'[1])   #This will print character at index position 1 that is e\n",
    "print('Hello, world!'[0:5]) #This will print from index position 0 to 4 that is Hello \n",
    "print('Hello, world!'[:5])  #This will print from index position 0 to 4 that is Hello \n",
    "print('Hello, world!'[3:])  #This will print from index position 3 to last that is lo, world! "
   ]
  },
  {
   "cell_type": "markdown",
   "id": "bbc3b5f8",
   "metadata": {},
   "source": [
    "# 7. What are the values of the following expressions?\n",
    "'Hello'.upper()\n",
    "\n",
    "'Hello'.upper().isupper()\n",
    "\n",
    "'Hello'.upper().lower()"
   ]
  },
  {
   "cell_type": "markdown",
   "id": "4e7989bf",
   "metadata": {},
   "source": [
    "# Ans\n",
    "1. 'HELLO'\n",
    "\n",
    "2. True\n",
    "\n",
    "3. 'hello'"
   ]
  },
  {
   "cell_type": "markdown",
   "id": "93d313bc",
   "metadata": {},
   "source": [
    "# 8. What are the values of the following expressions?\n",
    "'Remember, remember, the fifth of July.'.split()\n",
    "'-'.join('There can only one.'.split())"
   ]
  },
  {
   "cell_type": "markdown",
   "id": "fe9286f0",
   "metadata": {},
   "source": [
    "# Ans\n",
    "1.['Remember,', 'remember,', 'the', 'fifth', 'of', 'July.']\n",
    "\n",
    "2.There-can-only-one.\n"
   ]
  },
  {
   "cell_type": "markdown",
   "id": "15a67a29",
   "metadata": {},
   "source": [
    "# 9. What are the methods for right-justifying, left-justifying, and centering a string?"
   ]
  },
  {
   "cell_type": "markdown",
   "id": "38dcba68",
   "metadata": {},
   "source": [
    "# Ans\n",
    "for right-justifying : rjust()  # This method takes 2 arguments first one is the width of string to expand it and the second is optional it takes the character to fill in the spaces on the left side.\n",
    "    \n",
    "for left-justifying :  ljust()  # This method takes 2 arguments first one is the width of string to expand it and the second is optional it takes the character to fill in the spaces on the right side.\n",
    "    \n",
    "for center string :    center() # This method takes 2 arguments first one is the width of string to expand it and the second is optional it takes the character to fill either side of the string so that string is in the center."
   ]
  },
  {
   "cell_type": "code",
   "execution_count": 68,
   "id": "fd974bbd",
   "metadata": {},
   "outputs": [
    {
     "name": "stdout",
     "output_type": "stream",
     "text": [
      "######abhishek kirar\n"
     ]
    }
   ],
   "source": [
    "a = \"abhishek kirar\"\n",
    "print(a.rjust(20,\"#\"))"
   ]
  },
  {
   "cell_type": "code",
   "execution_count": 71,
   "id": "8013c317",
   "metadata": {},
   "outputs": [
    {
     "name": "stdout",
     "output_type": "stream",
     "text": [
      "abhishek kirar######\n"
     ]
    }
   ],
   "source": [
    "a = \"abhishek kirar\"\n",
    "print(a.ljust(20,\"#\"))"
   ]
  },
  {
   "cell_type": "code",
   "execution_count": 72,
   "id": "1635d692",
   "metadata": {},
   "outputs": [
    {
     "name": "stdout",
     "output_type": "stream",
     "text": [
      "###abhishek kirar###\n"
     ]
    }
   ],
   "source": [
    "a = \"abhishek kirar\"\n",
    "print(a.center(20,\"#\"))"
   ]
  },
  {
   "cell_type": "markdown",
   "id": "e04a73c0",
   "metadata": {},
   "source": [
    "# 10. What is the best way to remove whitespace characters from the start or end?"
   ]
  },
  {
   "cell_type": "markdown",
   "id": "8c14f177",
   "metadata": {},
   "source": [
    "# Ans \n",
    "The best way to remove whitespace character from the start or end is .strip().\n",
    "\n",
    "and Use the .lstrip() method to remove whitespace and characters only from the beginning of a string. \n",
    "\n",
    "Use the .rstrip() method to remove whitespace and characters only from the end of a string."
   ]
  },
  {
   "cell_type": "code",
   "execution_count": null,
   "id": "de0e1b43",
   "metadata": {},
   "outputs": [],
   "source": []
  }
 ],
 "metadata": {
  "kernelspec": {
   "display_name": "Python 3",
   "language": "python",
   "name": "python3"
  },
  "language_info": {
   "codemirror_mode": {
    "name": "ipython",
    "version": 3
   },
   "file_extension": ".py",
   "mimetype": "text/x-python",
   "name": "python",
   "nbconvert_exporter": "python",
   "pygments_lexer": "ipython3",
   "version": "3.8.8"
  }
 },
 "nbformat": 4,
 "nbformat_minor": 5
}
