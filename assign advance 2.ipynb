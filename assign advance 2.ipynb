{
 "cells": [
  {
   "cell_type": "markdown",
   "id": "9d8d7a67",
   "metadata": {},
   "source": [
    "# What is the relationship between classes and modules?"
   ]
  },
  {
   "cell_type": "markdown",
   "id": "ea7183ee",
   "metadata": {},
   "source": [
    "# Ans\n",
    "Classes may generate instances (objects), and have per-instance state (instance variables). Modules may be mixed in to classes and other modules. The mixed in module's constants and methods blend into that class's own, augmenting the class's functionality. Classes, however, cannot be mixed in to anything."
   ]
  },
  {
   "cell_type": "markdown",
   "id": "916eabb6",
   "metadata": {},
   "source": [
    "# How do you make instances and classes?"
   ]
  },
  {
   "cell_type": "markdown",
   "id": "d4cfacea",
   "metadata": {},
   "source": [
    "# Ans\n",
    "To create instances of a class, you call the class using class name and pass in whatever arguments its __init__ method accepts."
   ]
  },
  {
   "cell_type": "markdown",
   "id": "593dd178",
   "metadata": {},
   "source": [
    "# Where and how should be class attributes created?"
   ]
  },
  {
   "cell_type": "markdown",
   "id": "48f629aa",
   "metadata": {},
   "source": [
    "# Ans\n",
    "Class attributes are the variables defined directly in the class that are shared by all objects of the class.\n",
    "\n",
    "classname.class_attribute or object.class_attribute\n",
    "\n",
    "class Student:\n",
    "\n",
    "    count = 0\n",
    "    \n",
    "    def __init__(self):\n",
    "    \n",
    "        Student.count += 1  "
   ]
  },
  {
   "cell_type": "markdown",
   "id": "7f733447",
   "metadata": {},
   "source": [
    "# Where and how are instance attributes created?"
   ]
  },
  {
   "cell_type": "markdown",
   "id": "9cdd1539",
   "metadata": {},
   "source": [
    "# Ans\n",
    "Instance attributes are attributes or properties attached to an instance of a class. Instance attributes are defined in the constructor.\n",
    "\n",
    "object.instance_attribute\n",
    "\n",
    "class Student:\n",
    "\n",
    "    def __init__(self, name, age): \n",
    "    \n",
    "        self.name = name\n",
    "        \n",
    "        self.age = age"
   ]
  },
  {
   "cell_type": "markdown",
   "id": "bcbda6fc",
   "metadata": {},
   "source": [
    "# What does the term &quot;self&quot; in a Python class mean?"
   ]
  },
  {
   "cell_type": "markdown",
   "id": "983ee48d",
   "metadata": {},
   "source": [
    "# Ans\n",
    "The self parameter is a reference to the current instance of the class, and is used to access variables that belongs to the class."
   ]
  },
  {
   "cell_type": "markdown",
   "id": "f14f6458",
   "metadata": {},
   "source": [
    "# How does a Python class handle operator overloading?"
   ]
  },
  {
   "cell_type": "markdown",
   "id": "fcc24f28",
   "metadata": {},
   "source": [
    "# Ans\n",
    "The operator overloading in Python means provide extended meaning beyond their predefined operational meaning. Such as, we use the \"+\" operator for adding two integers as well as joining two strings or merging two lists. We can achieve this as the \"+\" operator is overloaded by the \"int\" class and \"str\" class. The user can notice that the same inbuilt operator or function is showing different behaviour for objects of different classes. This process is known as operator overloading."
   ]
  },
  {
   "cell_type": "markdown",
   "id": "41760227",
   "metadata": {},
   "source": [
    "# When do you consider allowing operator overloading of your classes?"
   ]
  },
  {
   "cell_type": "markdown",
   "id": "9bea80ef",
   "metadata": {},
   "source": [
    "# Ans\n",
    "the same built-in operator or function behaves differently for objects of different classes. This is known as Python operator overloading or Python function overloading. "
   ]
  },
  {
   "cell_type": "markdown",
   "id": "f9be9528",
   "metadata": {},
   "source": [
    "# What is the most popular form of operator overloading?"
   ]
  },
  {
   "cell_type": "markdown",
   "id": "83f6f812",
   "metadata": {},
   "source": [
    "# Ans\n",
    "A very popular and convenient example is the Addition (+) operator. Just think how the '+' operator operates on two numbers and the same operator operates on two strings. It performs “Addition” on numbers whereas it performs “Concatenation” on strings."
   ]
  },
  {
   "cell_type": "markdown",
   "id": "062e743f",
   "metadata": {},
   "source": [
    "# What are the two most important concepts to grasp in order to comprehend Python OOP code?"
   ]
  },
  {
   "cell_type": "markdown",
   "id": "24cc7f79",
   "metadata": {},
   "source": [
    "# Ans\n",
    "Two key concepts of OOP which are inheritance and polymorphism. Both inheritance and polymorphism are key ingredients for designing robust, flexible, and easy-to-maintain software."
   ]
  },
  {
   "cell_type": "code",
   "execution_count": null,
   "id": "60233fb6",
   "metadata": {},
   "outputs": [],
   "source": []
  }
 ],
 "metadata": {
  "kernelspec": {
   "display_name": "Python 3",
   "language": "python",
   "name": "python3"
  },
  "language_info": {
   "codemirror_mode": {
    "name": "ipython",
    "version": 3
   },
   "file_extension": ".py",
   "mimetype": "text/x-python",
   "name": "python",
   "nbconvert_exporter": "python",
   "pygments_lexer": "ipython3",
   "version": "3.8.8"
  }
 },
 "nbformat": 4,
 "nbformat_minor": 5
}
